{
 "cells": [
  {
   "cell_type": "code",
   "execution_count": 1,
   "metadata": {},
   "outputs": [],
   "source": [
    "import pandas as pd\n",
    "from gensim.models import FastText\n",
    "import re\n",
    "import numpy as np\n",
    "from libsvm import svmutil\n",
    "import libsvm\n",
    "from sklearn.metrics import r2_score, mean_absolute_error\n",
    "from scipy.stats import kendalltau"
   ]
  },
  {
   "cell_type": "code",
   "execution_count": 2,
   "metadata": {},
   "outputs": [],
   "source": [
    "model_summary = FastText.load(\"models-4.1(a)/model_summary.bin\")\n"
   ]
  },
  {
   "cell_type": "code",
   "execution_count": 11,
   "metadata": {},
   "outputs": [],
   "source": [
    "data = pd.read_csv(\"data_ner.csv\", sep=\";\")\n",
    "headlines = data[\"ner_tokens\"].astype(str).tolist()"
   ]
  },
  {
   "cell_type": "code",
   "execution_count": 12,
   "metadata": {},
   "outputs": [
    {
     "name": "stderr",
     "output_type": "stream",
     "text": [
      "/home/prachi/anaconda3/envs/ml/lib/python3.7/site-packages/ipykernel_launcher.py:6: DeprecationWarning: Call to deprecated `__getitem__` (Method will be removed in 4.0.0, use self.wv.__getitem__() instead).\n",
      "  \n"
     ]
    }
   ],
   "source": [
    "head_vec = []\n",
    "n = len(headlines)\n",
    "for h in range(n):\n",
    "    sum1 = np.array([0.0 for i in range(100)])\n",
    "    for tok in headlines[h]:\n",
    "        sum1+=model_summary[tok[0]]\n",
    "#     print(sum1)\n",
    "    sum1 = sum1/len(headlines[h])\n",
    "#     print(sum1)\n",
    "    head_vec.append(sum1)"
   ]
  },
  {
   "cell_type": "code",
   "execution_count": 14,
   "metadata": {},
   "outputs": [
    {
     "name": "stdout",
     "output_type": "stream",
     "text": [
      "7618 7618\n"
     ]
    }
   ],
   "source": [
    "feat_len = int(0.8*len(head_vec))\n",
    "train = head_vec[:feat_len]\n",
    "res_train = list(np.log2(np.array(data[\"Like Count\"][:feat_len].tolist())+1))\n",
    "test = head_vec[feat_len:]\n",
    "res_test = list(np.log2(np.array(data[\"Like Count\"][feat_len:].tolist())+1))\n",
    "print(len(train), len(res_train))"
   ]
  },
  {
   "cell_type": "code",
   "execution_count": 15,
   "metadata": {},
   "outputs": [],
   "source": [
    "model_svm = svmutil.svm_train(res_train, train,'-s 4 -t 2 -c 2')"
   ]
  },
  {
   "cell_type": "code",
   "execution_count": 16,
   "metadata": {},
   "outputs": [
    {
     "name": "stdout",
     "output_type": "stream",
     "text": [
      "Mean squared error = 0.847386 (regression)\n",
      "Squared correlation coefficient = 6.25155e-05 (regression)\n"
     ]
    }
   ],
   "source": [
    "y_reg = svmutil.svm_predict(res_test, test, model_svm)"
   ]
  },
  {
   "cell_type": "code",
   "execution_count": 17,
   "metadata": {},
   "outputs": [
    {
     "data": {
      "text/plain": [
       "-0.013664958802295235"
      ]
     },
     "execution_count": 17,
     "metadata": {},
     "output_type": "execute_result"
    }
   ],
   "source": [
    "r2 = r2_score(res_test,y_reg[0])\n",
    "r2"
   ]
  },
  {
   "cell_type": "code",
   "execution_count": 18,
   "metadata": {},
   "outputs": [
    {
     "data": {
      "text/plain": [
       "0.7067043802231711"
      ]
     },
     "execution_count": 18,
     "metadata": {},
     "output_type": "execute_result"
    }
   ],
   "source": [
    "mae = mean_absolute_error(res_test, y_reg[0])\n",
    "mae"
   ]
  },
  {
   "cell_type": "code",
   "execution_count": 19,
   "metadata": {},
   "outputs": [
    {
     "data": {
      "text/plain": [
       "KendalltauResult(correlation=0.015408975797999769, pvalue=0.33507961991576574)"
      ]
     },
     "execution_count": 19,
     "metadata": {},
     "output_type": "execute_result"
    }
   ],
   "source": [
    "kt = kendalltau(res_test, y_reg[0])\n",
    "kt"
   ]
  },
  {
   "cell_type": "code",
   "execution_count": 20,
   "metadata": {},
   "outputs": [
    {
     "name": "stdout",
     "output_type": "stream",
     "text": [
      "Mean squared error = 0.933864 (regression)\n",
      "Squared correlation coefficient = 0.00189295 (regression)\n"
     ]
    }
   ],
   "source": [
    "y_full = svmutil.svm_predict(res_test+res_train, test+train, model_svm)"
   ]
  },
  {
   "cell_type": "code",
   "execution_count": 21,
   "metadata": {},
   "outputs": [
    {
     "data": {
      "text/plain": [
       "-0.015148913883568982"
      ]
     },
     "execution_count": 21,
     "metadata": {},
     "output_type": "execute_result"
    }
   ],
   "source": [
    "r2 = r2_score(res_test+res_train,y_full[0])\n",
    "r2"
   ]
  },
  {
   "cell_type": "code",
   "execution_count": 22,
   "metadata": {},
   "outputs": [
    {
     "data": {
      "text/plain": [
       "0.7356078011313563"
      ]
     },
     "execution_count": 22,
     "metadata": {},
     "output_type": "execute_result"
    }
   ],
   "source": [
    "mae = mean_absolute_error(res_test+res_train, y_full[0])\n",
    "mae"
   ]
  },
  {
   "cell_type": "code",
   "execution_count": 23,
   "metadata": {},
   "outputs": [
    {
     "data": {
      "text/plain": [
       "KendalltauResult(correlation=0.02898987291307224, pvalue=4.7710098448617614e-05)"
      ]
     },
     "execution_count": 23,
     "metadata": {},
     "output_type": "execute_result"
    }
   ],
   "source": [
    "kt = kendalltau(res_test+res_train, y_full[0])\n",
    "kt"
   ]
  },
  {
   "cell_type": "code",
   "execution_count": 24,
   "metadata": {},
   "outputs": [
    {
     "name": "stdout",
     "output_type": "stream",
     "text": [
      "Mean squared error = 0.955489 (regression)\n",
      "Squared correlation coefficient = 0.00268669 (regression)\n"
     ]
    }
   ],
   "source": [
    "y_tr = svmutil.svm_predict(res_train, train, model_svm)"
   ]
  },
  {
   "cell_type": "code",
   "execution_count": 25,
   "metadata": {},
   "outputs": [
    {
     "data": {
      "text/plain": [
       "-0.015552189748904599"
      ]
     },
     "execution_count": 25,
     "metadata": {},
     "output_type": "execute_result"
    }
   ],
   "source": [
    "r2 = r2_score(res_train,y_tr[0])\n",
    "r2"
   ]
  },
  {
   "cell_type": "code",
   "execution_count": 26,
   "metadata": {},
   "outputs": [
    {
     "data": {
      "text/plain": [
       "0.7428355534062439"
      ]
     },
     "execution_count": 26,
     "metadata": {},
     "output_type": "execute_result"
    }
   ],
   "source": [
    "mae = mean_absolute_error(res_train, y_tr[0])\n",
    "mae"
   ]
  },
  {
   "cell_type": "code",
   "execution_count": 27,
   "metadata": {},
   "outputs": [
    {
     "data": {
      "text/plain": [
       "KendalltauResult(correlation=0.032222363614037915, pvalue=5.236677514177423e-05)"
      ]
     },
     "execution_count": 27,
     "metadata": {},
     "output_type": "execute_result"
    }
   ],
   "source": [
    "kt = kendalltau(res_train, y_tr[0])\n",
    "kt"
   ]
  },
  {
   "cell_type": "code",
   "execution_count": 28,
   "metadata": {},
   "outputs": [
    {
     "name": "stdout",
     "output_type": "stream",
     "text": [
      "Cross Validation Mean squared error = 0.934371\n",
      "Cross Validation Squared correlation coefficient = 0.000779518\n"
     ]
    }
   ],
   "source": [
    "model_svm_reg = svmutil.svm_train(res_train+res_test, train+test,'-s 4 -v 10 -t 2 -c 2')"
   ]
  },
  {
   "cell_type": "code",
   "execution_count": 29,
   "metadata": {},
   "outputs": [],
   "source": [
    "svmutil.svm_save_model(\"model_b_reg.bin\",model_svm)"
   ]
  },
  {
   "cell_type": "code",
   "execution_count": null,
   "metadata": {},
   "outputs": [],
   "source": []
  }
 ],
 "metadata": {
  "kernelspec": {
   "display_name": "Python 3",
   "language": "python",
   "name": "python3"
  },
  "language_info": {
   "codemirror_mode": {
    "name": "ipython",
    "version": 3
   },
   "file_extension": ".py",
   "mimetype": "text/x-python",
   "name": "python",
   "nbconvert_exporter": "python",
   "pygments_lexer": "ipython3",
   "version": "3.7.6"
  }
 },
 "nbformat": 4,
 "nbformat_minor": 4
}
