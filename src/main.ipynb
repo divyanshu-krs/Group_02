{
  "nbformat": 4,
  "nbformat_minor": 0,
  "metadata": {
    "colab": {
      "name": "main_mca.ipynb",
      "provenance": []
    },
    "kernelspec": {
      "name": "python3",
      "display_name": "Python 3"
    }
  },
  "cells": [
    {
      "cell_type": "markdown",
      "metadata": {
        "id": "b2MpeHdZhUHb",
        "colab_type": "text"
      },
      "source": [
        "**Classification : All Feature Excluding EmoInt**"
      ]
    },
    {
      "cell_type": "code",
      "metadata": {
        "id": "D5ajXRHRhT0t",
        "colab_type": "code",
        "colab": {}
      },
      "source": [
        "from google.colab import drive\n",
        "drive.mount('/content/drive')"
      ],
      "execution_count": 0,
      "outputs": []
    },
    {
      "cell_type": "code",
      "metadata": {
        "id": "EI_A9VyghO-l",
        "colab_type": "code",
        "colab": {}
      },
      "source": [
        "# !git clone https://github.com/SEERNET/EmoInt.git\n",
        "%cd EmoInt\n",
        "%cp -r /content/drive/My\\ Drive/MCA\\ Project/EmoInt/tweetokenize tweetokenize\n",
        "!python setup.py install\n",
        "from EmoInt.emoint.featurizers.emoint_featurizer import EmoIntFeaturizer\n",
        "from EmoInt.tweetokenize.tweetokenize.tokenizer import Tokenizer\n",
        "%cd /content/drive/My Drive/MCA Project/\n",
        "!pip install --upgrade gensim\n",
        "!pip install libsvm\n",
        "\n",
        "import pandas as pd\n",
        "from gensim.models import FastText\n",
        "import re\n",
        "import numpy as np\n",
        "from libsvm import svmutil\n",
        "import libsvm\n",
        "from sklearn.metrics import confusion_matrix, roc_curve, auc\n",
        "from scipy.stats import kendalltau"
      ],
      "execution_count": 0,
      "outputs": []
    },
    {
      "cell_type": "code",
      "metadata": {
        "id": "hsWI-znahrGY",
        "colab_type": "code",
        "colab": {}
      },
      "source": [
        "model_summary = FastText.load('project/models-4.1/model_summary.bin')\n",
        "# ner_tokens = data_ner[\"ner_tokens\"].astype(str).tolist()\n",
        "arrays = np.load(\"Final/part_d_features.npy\")\n",
        "combine_f = pd.read_csv('Combined_Features.csv')\n",
        "len(combine_f)"
      ],
      "execution_count": 0,
      "outputs": []
    },
    {
      "cell_type": "code",
      "metadata": {
        "id": "-YJ55dMWhrEA",
        "colab_type": "code",
        "colab": {}
      },
      "source": [
        "# !unzip EmoInt.zip\n",
        "\n",
        "#### SVM for these emotions\n",
        "import re\n",
        "category = set(combine_f[\"Category\"].tolist())\n",
        "post_types = set(combine_f[\"Post_Type\"].tolist())\n",
        "ner = combine_f[\"Ner_Token\"].astype(str).tolist()\n",
        "# ner = [re.sub(\"\\\"'\\]\\[(),\",\"\", n) for n in ner] \n",
        "# print(ner)\n",
        "headlines= []\n",
        "for sent_str in combine_f[\"Headline\"]:\n",
        "#     sent_str = re.sub(r\"'\", \"\", str(sent_str).lower())\n",
        "    tokens = re.sub(r\"[^a-z0-9]+\", \" \", str(sent_str).lower()).split()\n",
        "    if(tokens == []):\n",
        "        tokens = \"nan\"\n",
        "    headlines.append(tokens)\n",
        "    \n",
        "cat_vec = {}\n",
        "for c in category:\n",
        "    cat_vec[c] = model_summary.wv[c] \n",
        "\n",
        "for c in post_types:\n",
        "    cat_vec[c] = model_summary.wv[c]\n",
        "    \n",
        "head_vec = []\n",
        "n = len(headlines)\n",
        "for h in range(n):\n",
        "    sum1 = np.array([0.0 for i in range(100)])\n",
        "    for tok in ner[h]:\n",
        "        sum1+=model_summary.wv[tok[0]]\n",
        "#     print(sum1)\n",
        "    sum1 = sum1/len(headlines[h])\n",
        "#     print(sum1)\n",
        "    sum1 = np.concatenate((sum1,cat_vec[combine_f[\"Category\"][h]],cat_vec[combine_f[\"Post_Type\"][h]], arrays[h]))\n",
        "    head_vec.append(sum1)"
      ],
      "execution_count": 0,
      "outputs": []
    },
    {
      "cell_type": "code",
      "metadata": {
        "id": "b4c0tgYfhrBL",
        "colab_type": "code",
        "colab": {}
      },
      "source": [
        "head_vec = np.array(head_vec)\n",
        "feat_len = int(0.8*len(head_vec))\n",
        "train = head_vec[:feat_len]\n",
        "res_train = combine_f[\"class\"][:feat_len].tolist()\n",
        "test = head_vec[feat_len:]\n",
        "res_test = combine_f[\"class\"][feat_len:].tolist()\n",
        "print(len(test), len(res_test))"
      ],
      "execution_count": 0,
      "outputs": []
    },
    {
      "cell_type": "code",
      "metadata": {
        "id": "aBmEgEw8hq6y",
        "colab_type": "code",
        "colab": {}
      },
      "source": [
        "model_svm = svmutil.svm_train(res_train, train,'-t 2 -c 2')"
      ],
      "execution_count": 0,
      "outputs": []
    },
    {
      "cell_type": "code",
      "metadata": {
        "id": "IV-r9Dn-hq4E",
        "colab_type": "code",
        "colab": {}
      },
      "source": [
        "y = svmutil.svm_predict(res_test, test, model_svm)"
      ],
      "execution_count": 0,
      "outputs": []
    },
    {
      "cell_type": "code",
      "metadata": {
        "id": "yDeg4wVXhq1m",
        "colab_type": "code",
        "colab": {}
      },
      "source": [
        "confusion_matrix(res_test, y[0], labels=[0,1])\n"
      ],
      "execution_count": 0,
      "outputs": []
    },
    {
      "cell_type": "code",
      "metadata": {
        "id": "90PAYsNvh_YW",
        "colab_type": "code",
        "colab": {}
      },
      "source": [
        "tn, fp, fn, tp = confusion_matrix(res_test, y[0], labels=[0,1]).ravel()"
      ],
      "execution_count": 0,
      "outputs": []
    },
    {
      "cell_type": "code",
      "metadata": {
        "id": "MfwQHU7mh_de",
        "colab_type": "code",
        "colab": {}
      },
      "source": [
        "recall = tp/(tp+fn)\n",
        "recall"
      ],
      "execution_count": 0,
      "outputs": []
    },
    {
      "cell_type": "code",
      "metadata": {
        "id": "FZTFDKUHh_kS",
        "colab_type": "code",
        "colab": {}
      },
      "source": [
        "precision = tp/(tp+fp)\n",
        "precision"
      ],
      "execution_count": 0,
      "outputs": []
    },
    {
      "cell_type": "code",
      "metadata": {
        "id": "KeDxktE-h_ij",
        "colab_type": "code",
        "colab": {}
      },
      "source": [
        "f1 = precision*recall*2/(precision+recall)\n",
        "f1"
      ],
      "execution_count": 0,
      "outputs": []
    },
    {
      "cell_type": "code",
      "metadata": {
        "id": "ggYFuDq2h_gn",
        "colab_type": "code",
        "colab": {}
      },
      "source": [
        "fpr, tpr, thresholds = roc_curve(res_test, y[0])\n",
        "AUC = auc(fpr, tpr)\n",
        "AUC"
      ],
      "execution_count": 0,
      "outputs": []
    },
    {
      "cell_type": "code",
      "metadata": {
        "id": "si55k0ouh_bV",
        "colab_type": "code",
        "colab": {}
      },
      "source": [
        "svmutil.svm_save_model(\"model_all4_classification.bin\",model_svm)\n",
        "svmutil.svm_train(res_train+res_test, list(train)+list(test),'-v 10 -t 2 -c 2')"
      ],
      "execution_count": 0,
      "outputs": []
    },
    {
      "cell_type": "markdown",
      "metadata": {
        "id": "jgrFgbWRil6k",
        "colab_type": "text"
      },
      "source": [
        "**Classification: All Feature Including EmoInt**"
      ]
    },
    {
      "cell_type": "code",
      "metadata": {
        "id": "04Bsd8SEiloN",
        "colab_type": "code",
        "colab": {}
      },
      "source": [
        "featurizer = EmoIntFeaturizer()\n",
        "tokenizer = Tokenizer()"
      ],
      "execution_count": 0,
      "outputs": []
    },
    {
      "cell_type": "code",
      "metadata": {
        "id": "8Pk9qCmPivFv",
        "colab_type": "code",
        "colab": {}
      },
      "source": [
        "def get_vector(h):\n",
        "    \n",
        "    headlines = []\n",
        "    i= 0\n",
        "    for sent_str in h:\n",
        "\n",
        "        print(i)\n",
        "\n",
        "        i+=1\n",
        "\n",
        "        features = featurizer.featurize(str(sent_str), tokenizer)\n",
        "        \n",
        "        headlines.append(features)\n",
        "    \n",
        "    return headlines\n",
        "head_vec2 = get_vector(headlines)"
      ],
      "execution_count": 0,
      "outputs": []
    },
    {
      "cell_type": "code",
      "metadata": {
        "id": "iH7KUR-GivI2",
        "colab_type": "code",
        "colab": {}
      },
      "source": [
        "hv = []\n",
        "\n",
        "for i, h in enumerate(list(head_vec)):\n",
        "  # print(head_vec2[i])\n",
        "  hv.append(list(h)+ head_vec2[i])\n",
        "hv = np.array(hv)\n",
        "hv.shape"
      ],
      "execution_count": 0,
      "outputs": []
    },
    {
      "cell_type": "code",
      "metadata": {
        "id": "sUA0-b4civNa",
        "colab_type": "code",
        "colab": {}
      },
      "source": [
        "feat_len = int(0.8*len(head_vec))\n",
        "train = hv[:feat_len]\n",
        "res_train = combine_f[\"class\"][:feat_len].tolist()\n",
        "test = hv[feat_len:]\n",
        "res_test = combine_f[\"class\"][feat_len:].tolist()\n",
        "print(len(test), len(res_test))"
      ],
      "execution_count": 0,
      "outputs": []
    },
    {
      "cell_type": "code",
      "metadata": {
        "id": "lPixOEXOivRy",
        "colab_type": "code",
        "colab": {}
      },
      "source": [
        "model_svm = svmutil.svm_train(res_train, train,'-t 2 -c 2')\n",
        "y = svmutil.svm_predict(res_test, test, model_svm)"
      ],
      "execution_count": 0,
      "outputs": []
    },
    {
      "cell_type": "code",
      "metadata": {
        "id": "77NfORplivWx",
        "colab_type": "code",
        "colab": {}
      },
      "source": [
        "confusion_matrix(res_test, y[0], labels=[0,1])\n"
      ],
      "execution_count": 0,
      "outputs": []
    },
    {
      "cell_type": "code",
      "metadata": {
        "id": "C527EhncivUr",
        "colab_type": "code",
        "colab": {}
      },
      "source": [
        "tn, fp, fn, tp = confusion_matrix(res_test, y[0], labels=[0,1]).ravel()"
      ],
      "execution_count": 0,
      "outputs": []
    },
    {
      "cell_type": "code",
      "metadata": {
        "id": "P8fBvu7Ti9ta",
        "colab_type": "code",
        "colab": {}
      },
      "source": [
        "recall = tp/(tp+fn)\n",
        "recall"
      ],
      "execution_count": 0,
      "outputs": []
    },
    {
      "cell_type": "code",
      "metadata": {
        "id": "50r4rxoUi9qu",
        "colab_type": "code",
        "colab": {}
      },
      "source": [
        "precision = tp/(tp+fp)\n",
        "precision"
      ],
      "execution_count": 0,
      "outputs": []
    },
    {
      "cell_type": "code",
      "metadata": {
        "id": "HDMhgE5TjAMA",
        "colab_type": "code",
        "colab": {}
      },
      "source": [
        "f1 = precision*recall*2/(precision+recall)\n",
        "f1"
      ],
      "execution_count": 0,
      "outputs": []
    },
    {
      "cell_type": "code",
      "metadata": {
        "id": "Tly170RsjAJG",
        "colab_type": "code",
        "colab": {}
      },
      "source": [
        "fpr, tpr, thresholds = roc_curve(res_test, y[0])\n",
        "AUC = auc(fpr, tpr)\n",
        "AUC"
      ],
      "execution_count": 0,
      "outputs": []
    },
    {
      "cell_type": "code",
      "metadata": {
        "id": "tZxAcfzGjAH7",
        "colab_type": "code",
        "colab": {}
      },
      "source": [
        "svmutil.svm_save_model(\"model_all5_classification.bin\",model_svm)\n",
        "svmutil.svm_train(res_train+res_test, list(train)+list(test),'-v 10 -t 2 -c 2')"
      ],
      "execution_count": 0,
      "outputs": []
    },
    {
      "cell_type": "markdown",
      "metadata": {
        "id": "hduT5gPDjI4m",
        "colab_type": "text"
      },
      "source": [
        "**Regression : All Feature Exlcuding EmoInt**"
      ]
    },
    {
      "cell_type": "code",
      "metadata": {
        "id": "iekVngWBjAE5",
        "colab_type": "code",
        "colab": {}
      },
      "source": [
        "!pip install --upgrade gensim\n",
        "!pip install libsvm\n",
        "\n",
        "import pandas as pd\n",
        "from gensim.models import FastText\n",
        "import re\n",
        "import numpy as np\n",
        "from libsvm import svmutil\n",
        "import libsvm\n",
        "from sklearn.metrics import r2_score, mean_absolute_error\n",
        "from scipy.stats import kendalltau"
      ],
      "execution_count": 0,
      "outputs": []
    },
    {
      "cell_type": "code",
      "metadata": {
        "id": "Af3AfAlYjRMn",
        "colab_type": "code",
        "colab": {}
      },
      "source": [
        "model_summary = FastText.load('project/models-4.1/model_summary.bin')"
      ],
      "execution_count": 0,
      "outputs": []
    },
    {
      "cell_type": "code",
      "metadata": {
        "id": "C-uckmTujRJ8",
        "colab_type": "code",
        "colab": {}
      },
      "source": [
        "data_ner = pd.read_csv(\"project/data_ner.csv\", sep=\";\")\n",
        "data_pos = pd.read_csv(\"project/data_pos.csv\")\n",
        "data_ner.columns"
      ],
      "execution_count": 0,
      "outputs": []
    },
    {
      "cell_type": "code",
      "metadata": {
        "id": "6FmswTvyjRHr",
        "colab_type": "code",
        "colab": {}
      },
      "source": [
        "# ner_tokens = data_ner[\"ner_tokens\"].astype(str).tolist()\n",
        "arrays = np.load(\"Final/part_d_features.npy\")"
      ],
      "execution_count": 0,
      "outputs": []
    },
    {
      "cell_type": "code",
      "metadata": {
        "id": "ewh6VYZyjRE0",
        "colab_type": "code",
        "colab": {}
      },
      "source": [
        "combine_f = pd.read_csv('Combined_Features.csv')\n",
        "len(combine_f)"
      ],
      "execution_count": 0,
      "outputs": []
    },
    {
      "cell_type": "code",
      "metadata": {
        "id": "Nnu8_gRtjRB9",
        "colab_type": "code",
        "colab": {}
      },
      "source": [
        "#### SVM for these emotions\n",
        "import re\n",
        "category = set(combine_f[\"Category\"].tolist())\n",
        "post_types = set(combine_f[\"Post_Type\"].tolist())\n",
        "ner = combine_f[\"Ner_Token\"].astype(str).tolist()\n",
        "# ner = [re.sub(\"\\\"'\\]\\[(),\",\"\", n) for n in ner] \n",
        "# print(ner)\n",
        "headlines= []\n",
        "for sent_str in combine_f[\"Headline\"]:\n",
        "#     sent_str = re.sub(r\"'\", \"\", str(sent_str).lower())\n",
        "    tokens = re.sub(r\"[^a-z0-9]+\", \" \", str(sent_str).lower()).split()\n",
        "    if(tokens == []):\n",
        "        tokens = \"nan\"\n",
        "    headlines.append(tokens)\n",
        "    \n",
        "cat_vec = {}\n",
        "for c in category:\n",
        "    cat_vec[c] = model_summary.wv[c] \n",
        "\n",
        "for c in post_types:\n",
        "    cat_vec[c] = model_summary.wv[c]\n",
        "    \n",
        "head_vec = []\n",
        "n = len(headlines)\n",
        "for h in range(n):\n",
        "    sum1 = np.array([0.0 for i in range(100)])\n",
        "    for tok in ner[h]:\n",
        "        sum1+=model_summary.wv[tok[0]]\n",
        "#     print(sum1)\n",
        "    sum1 = sum1/len(headlines[h])\n",
        "#     print(sum1)\n",
        "    sum1 = np.concatenate((sum1,cat_vec[combine_f[\"Category\"][h]],cat_vec[combine_f[\"Post_Type\"][h]], arrays[h]))\n",
        "    head_vec.append(sum1)"
      ],
      "execution_count": 0,
      "outputs": []
    },
    {
      "cell_type": "code",
      "metadata": {
        "id": "2yOSRClujQ_H",
        "colab_type": "code",
        "colab": {}
      },
      "source": [
        "head_vec = np.array(head_vec)"
      ],
      "execution_count": 0,
      "outputs": []
    },
    {
      "cell_type": "code",
      "metadata": {
        "id": "AmWTsscNjACW",
        "colab_type": "code",
        "colab": {}
      },
      "source": [
        "feat_len = int(0.8*len(head_vec))\n",
        "train = head_vec[:feat_len]\n",
        "res_train = list(np.log2(np.array(combine_f[\"Like Count\"][:feat_len].tolist())+1))\n",
        "test = head_vec[feat_len:]\n",
        "res_test = list(np.log2(np.array(combine_f[\"Like Count\"][feat_len:].tolist())+1))\n",
        "print(len(train), len(res_train))"
      ],
      "execution_count": 0,
      "outputs": []
    },
    {
      "cell_type": "code",
      "metadata": {
        "id": "QXlu245pi__r",
        "colab_type": "code",
        "colab": {}
      },
      "source": [
        "model_svm = svmutil.svm_train(res_train, train,'-s 4 -t 2 -c 2')"
      ],
      "execution_count": 0,
      "outputs": []
    },
    {
      "cell_type": "code",
      "metadata": {
        "id": "LRLyEYrSi9n4",
        "colab_type": "code",
        "colab": {}
      },
      "source": [
        "y_full = svmutil.svm_predict(res_test+res_train, list(test)+list(train), model_svm)"
      ],
      "execution_count": 0,
      "outputs": []
    },
    {
      "cell_type": "code",
      "metadata": {
        "id": "zYkqtZ2IivL1",
        "colab_type": "code",
        "colab": {}
      },
      "source": [
        "r2 = r2_score(res_test+res_train,y_full[0])\n",
        "r2"
      ],
      "execution_count": 0,
      "outputs": []
    },
    {
      "cell_type": "code",
      "metadata": {
        "id": "Ta__9HJbj34R",
        "colab_type": "code",
        "colab": {}
      },
      "source": [
        "mae = mean_absolute_error(res_test+res_train, y_full[0])\n",
        "mae"
      ],
      "execution_count": 0,
      "outputs": []
    },
    {
      "cell_type": "code",
      "metadata": {
        "id": "ARohQ15Cj32O",
        "colab_type": "code",
        "colab": {}
      },
      "source": [
        "kt = kendalltau(res_test+res_train, y_full[0])\n",
        "kt"
      ],
      "execution_count": 0,
      "outputs": []
    },
    {
      "cell_type": "code",
      "metadata": {
        "id": "GtRdHjpGj30N",
        "colab_type": "code",
        "colab": {}
      },
      "source": [
        "y_tr = svmutil.svm_predict(res_train, train, model_svm)"
      ],
      "execution_count": 0,
      "outputs": []
    },
    {
      "cell_type": "code",
      "metadata": {
        "id": "sLYOcm-aj3xS",
        "colab_type": "code",
        "colab": {}
      },
      "source": [
        "r2 = r2_score(res_train,y_tr[0])\n",
        "r2"
      ],
      "execution_count": 0,
      "outputs": []
    },
    {
      "cell_type": "code",
      "metadata": {
        "id": "ejSy0sTYj3sF",
        "colab_type": "code",
        "colab": {}
      },
      "source": [
        "mae = mean_absolute_error(res_train, y_tr[0])\n",
        "mae"
      ],
      "execution_count": 0,
      "outputs": []
    },
    {
      "cell_type": "code",
      "metadata": {
        "id": "-rODe0bPj3pQ",
        "colab_type": "code",
        "colab": {}
      },
      "source": [
        "kt = kendalltau(res_train, y_tr[0])\n",
        "kt"
      ],
      "execution_count": 0,
      "outputs": []
    },
    {
      "cell_type": "code",
      "metadata": {
        "id": "K5zuZBw3j3mX",
        "colab_type": "code",
        "colab": {}
      },
      "source": [
        "svmutil.svm_save_model(\"model_all4_regression.bin\",model_svm)\n",
        "model_svm_reg = svmutil.svm_train(res_train+res_test, list(train)+list(test),'-s 4 -v 10 -t 2 -c 2')"
      ],
      "execution_count": 0,
      "outputs": []
    },
    {
      "cell_type": "markdown",
      "metadata": {
        "id": "nP-8LuqvkaPo",
        "colab_type": "text"
      },
      "source": [
        "**Regression : All Feature Inclusding EmoInt**"
      ]
    },
    {
      "cell_type": "code",
      "metadata": {
        "id": "S-tF7UjqkonD",
        "colab_type": "code",
        "colab": {}
      },
      "source": [
        "featurizer = EmoIntFeaturizer()\n",
        "tokenizer = Tokenizer()"
      ],
      "execution_count": 0,
      "outputs": []
    },
    {
      "cell_type": "code",
      "metadata": {
        "id": "m0njpp5fkp7Y",
        "colab_type": "code",
        "colab": {}
      },
      "source": [
        "def get_vector(h):\n",
        "    \n",
        "    headlines = []\n",
        "    i= 0\n",
        "    for sent_str in h:\n",
        "\n",
        "        # print(i)\n",
        "\n",
        "        i+=1\n",
        "\n",
        "        features = featurizer.featurize(str(sent_str), tokenizer)\n",
        "        \n",
        "        headlines.append(features)\n",
        "    \n",
        "    return headlines\n",
        "head_vec2 = get_vector(headlines)"
      ],
      "execution_count": 0,
      "outputs": []
    },
    {
      "cell_type": "code",
      "metadata": {
        "id": "yv9wYJ4ykp4w",
        "colab_type": "code",
        "colab": {}
      },
      "source": [
        "hv = []\n",
        "\n",
        "for i, h in enumerate(list(head_vec)):\n",
        "  # print(head_vec2[i])\n",
        "  hv.append(list(h)+ head_vec2[i])\n",
        "hv = np.array(hv)\n",
        "hv.shape"
      ],
      "execution_count": 0,
      "outputs": []
    },
    {
      "cell_type": "code",
      "metadata": {
        "id": "Q64x4D2Xkp1Z",
        "colab_type": "code",
        "colab": {}
      },
      "source": [
        "feat_len = int(0.8*len(head_vec))\n",
        "train = hv[:feat_len]\n",
        "res_train = list(np.log2(np.array(combine_f[\"Like Count\"][:feat_len].tolist())+1))\n",
        "test = hv[feat_len:]\n",
        "res_test = list(np.log2(np.array(combine_f[\"Like Count\"][feat_len:].tolist())+1))\n",
        "print(len(train), len(res_train))"
      ],
      "execution_count": 0,
      "outputs": []
    },
    {
      "cell_type": "code",
      "metadata": {
        "id": "Xx_4-Qdjkpzl",
        "colab_type": "code",
        "colab": {}
      },
      "source": [
        "model_svm = svmutil.svm_train(res_train, train,'-s 4 -t 2 -c 2')\n",
        "y_full = svmutil.svm_predict(res_test+res_train, list(test)+list(train), model_svm)"
      ],
      "execution_count": 0,
      "outputs": []
    },
    {
      "cell_type": "code",
      "metadata": {
        "id": "a_6QWsh3kpws",
        "colab_type": "code",
        "colab": {}
      },
      "source": [
        "r2 = r2_score(res_test+res_train,y_full[0])\n",
        "r2"
      ],
      "execution_count": 0,
      "outputs": []
    },
    {
      "cell_type": "code",
      "metadata": {
        "id": "Ia94SsfCkpuY",
        "colab_type": "code",
        "colab": {}
      },
      "source": [
        "mae = mean_absolute_error(res_test+res_train, y_full[0])\n",
        "mae"
      ],
      "execution_count": 0,
      "outputs": []
    },
    {
      "cell_type": "code",
      "metadata": {
        "id": "YRxUASMqkprf",
        "colab_type": "code",
        "colab": {}
      },
      "source": [
        "kt = kendalltau(res_test+res_train, y_full[0])\n",
        "kt"
      ],
      "execution_count": 0,
      "outputs": []
    },
    {
      "cell_type": "code",
      "metadata": {
        "id": "xWsN-GWqkpoJ",
        "colab_type": "code",
        "colab": {}
      },
      "source": [
        "y_tr = svmutil.svm_predict(res_train, train, model_svm)"
      ],
      "execution_count": 0,
      "outputs": []
    },
    {
      "cell_type": "code",
      "metadata": {
        "id": "syzPp6A2kpiV",
        "colab_type": "code",
        "colab": {}
      },
      "source": [
        "r2 = r2_score(res_train,y_tr[0])\n",
        "r2"
      ],
      "execution_count": 0,
      "outputs": []
    },
    {
      "cell_type": "code",
      "metadata": {
        "id": "Rkfh8X7VlDdi",
        "colab_type": "code",
        "colab": {}
      },
      "source": [
        "mae = mean_absolute_error(res_train, y_tr[0])\n",
        "mae"
      ],
      "execution_count": 0,
      "outputs": []
    },
    {
      "cell_type": "code",
      "metadata": {
        "id": "bi44pe32lDad",
        "colab_type": "code",
        "colab": {}
      },
      "source": [
        "kt = kendalltau(res_train, y_tr[0])\n",
        "kt"
      ],
      "execution_count": 0,
      "outputs": []
    },
    {
      "cell_type": "code",
      "metadata": {
        "id": "lh3TOWGGlF0q",
        "colab_type": "code",
        "colab": {}
      },
      "source": [
        "svmutil.svm_save_model(\"model_all5_regression.bin\",model_svm)\n"
      ],
      "execution_count": 0,
      "outputs": []
    },
    {
      "cell_type": "markdown",
      "metadata": {
        "id": "mrpCIDgBlIfn",
        "colab_type": "text"
      },
      "source": [
        "**Regression : Relevance News Category Features**"
      ]
    },
    {
      "cell_type": "code",
      "metadata": {
        "id": "5ytIh79IlF3f",
        "colab_type": "code",
        "colab": {}
      },
      "source": [
        "!pip install libsvm\n",
        "import pandas as pd\n",
        "from gensim.models import FastText\n",
        "import re\n",
        "import numpy as np\n",
        "from libsvm import svmutil\n",
        "import libsvm"
      ],
      "execution_count": 0,
      "outputs": []
    },
    {
      "cell_type": "code",
      "metadata": {
        "id": "MAS4P2a-lF6K",
        "colab_type": "code",
        "colab": {}
      },
      "source": [
        "cd /content/drive/My Drive/MCA Project/"
      ],
      "execution_count": 0,
      "outputs": []
    },
    {
      "cell_type": "code",
      "metadata": {
        "id": "naEcifR7lF9X",
        "colab_type": "code",
        "colab": {}
      },
      "source": [
        "data = pd.read_excel(\"project/NewsHeadlines_01012019_30092019.xlsx\")\n",
        "# ls = [1 if i < 4761 else 0 for i in range(47611)]\n",
        "# index = data[\"Like Count\"].tolist()\n",
        "data[\"Category\"].replace({\"Tech\": \"Technology\",\"-\":\"Uncategorized\", \"Sports\":\"Sport\"}, inplace=True)\n",
        "data.head()"
      ],
      "execution_count": 0,
      "outputs": []
    },
    {
      "cell_type": "code",
      "metadata": {
        "id": "Sk8JsLhTlGAI",
        "colab_type": "code",
        "colab": {}
      },
      "source": [
        "train_df = data[\"Summary\"]\n",
        "train_df = train_df.values.tolist()\n",
        "summary = []\n",
        "for sent_str in train_df:\n",
        "#     sent_str = re.sub(r\"'\", \"\", str(sent_str).lower())\n",
        "    tokens = re.sub(r\"[^a-z0-9]+\", \" \", str(sent_str).lower()).split()\n",
        "    summary.append(tokens)\n",
        "model_summary = FastText(summary , size=100, window=5, min_count=5, workers=4,sg=1)\n",
        "model_summary.wv.most_similar(\"indian\")    "
      ],
      "execution_count": 0,
      "outputs": []
    },
    {
      "cell_type": "code",
      "metadata": {
        "id": "3Jbgj5g4mYRl",
        "colab_type": "code",
        "colab": {}
      },
      "source": [
        "model_summary = FastText.load(\"project/models-4.1/model_summary.bin\")"
      ],
      "execution_count": 0,
      "outputs": []
    },
    {
      "cell_type": "code",
      "metadata": {
        "id": "JCJTKOUzmYQD",
        "colab_type": "code",
        "colab": {}
      },
      "source": [
        "category = set(data[\"Category\"].tolist())"
      ],
      "execution_count": 0,
      "outputs": []
    },
    {
      "cell_type": "code",
      "metadata": {
        "id": "oNgiGrWZmYOl",
        "colab_type": "code",
        "colab": {}
      },
      "source": [
        "headlines= []\n",
        "for sent_str in data[\"Headline\"]:\n",
        "#     sent_str = re.sub(r\"'\", \"\", str(sent_str).lower())\n",
        "    tokens = re.sub(r\"[^a-z0-9]+\", \" \", str(sent_str).lower()).split()\n",
        "    if(tokens == []):\n",
        "        tokens = \"nan\"\n",
        "    headlines.append(tokens)\n",
        "\n",
        "cat_vec = {}\n",
        "for c in category:\n",
        "    cat_vec[c] = model_summary[c]\n",
        "\n",
        "head_vec = []\n",
        "n = len(headlines)\n",
        "for h in range(n):\n",
        "    sum1 = np.array([0.0 for i in range(100)])\n",
        "    for tok in headlines[h]:\n",
        "        sum1+=model_summary[tok]\n",
        "#     print(sum1)\n",
        "    sum1 = sum1/len(headlines[h])\n",
        "#     print(sum1)\n",
        "    sum1 = np.concatenate((sum1,cat_vec[data[\"Category\"][h]]))\n",
        "    head_vec.append(sum1)\n",
        "\n",
        "train = head_vec[:int(0.8*(47611))]\n",
        "res_train = list(np.log2(np.array(data[\"Like Count\"][:int(0.8*47611)].tolist())+1))\n",
        "test = head_vec[int(0.8*47611):]\n",
        "res_test = list(np.log2(np.array(data[\"Like Count\"][int(0.8*47611):].tolist())+1))\n",
        "print(len(train), len(res_train))\n",
        "\n",
        "model_svm_reg = svmutil.svm_train(res_train, train,'-s 4 -v 10 -t 2 -c 2')"
      ],
      "execution_count": 0,
      "outputs": []
    },
    {
      "cell_type": "code",
      "metadata": {
        "id": "muYuCn_ZmYNK",
        "colab_type": "code",
        "colab": {}
      },
      "source": [
        "model_svm = svmutil.svm_train(res_train, train,'-s 4 -t 2 -c 2')\n",
        "y_reg = svmutil.svm_predict(res_test+res_train, test+train, model_svm)\n",
        "svmutil.svm_save_model(\"model_svm_reg.bin\",model_svm)\n",
        "\n",
        "from sklearn.metrics import r2_score, mean_absolute_error"
      ],
      "execution_count": 0,
      "outputs": []
    },
    {
      "cell_type": "code",
      "metadata": {
        "id": "YvDwqJ0hmYJQ",
        "colab_type": "code",
        "colab": {}
      },
      "source": [
        "r2 = r2_score(res_test+res_train,y_reg[0])\n",
        "r2"
      ],
      "execution_count": 0,
      "outputs": []
    },
    {
      "cell_type": "code",
      "metadata": {
        "id": "Z_Wax73MmYGC",
        "colab_type": "code",
        "colab": {}
      },
      "source": [
        "mae = mean_absolute_error(res_test+res_train, y_reg[0])\n",
        "mae"
      ],
      "execution_count": 0,
      "outputs": []
    },
    {
      "cell_type": "code",
      "metadata": {
        "id": "geBqgMxumYCS",
        "colab_type": "code",
        "colab": {}
      },
      "source": [
        "from scipy.stats import kendalltau\n",
        "kt = kendalltau(res_test+res_train, y_reg[0])\n",
        "kt"
      ],
      "execution_count": 0,
      "outputs": []
    },
    {
      "cell_type": "code",
      "metadata": {
        "id": "_ba9ZLoKmX-Y",
        "colab_type": "code",
        "colab": {}
      },
      "source": [
        "y_reg2 = svmutil.svm_predict(res_train, train, model_svm)"
      ],
      "execution_count": 0,
      "outputs": []
    },
    {
      "cell_type": "code",
      "metadata": {
        "id": "tuTiQtAJm9Fl",
        "colab_type": "code",
        "colab": {}
      },
      "source": [
        "r2 = r2_score(res_train,y_reg2[0])\n",
        "r2"
      ],
      "execution_count": 0,
      "outputs": []
    },
    {
      "cell_type": "code",
      "metadata": {
        "id": "7w9JWEmJm-lX",
        "colab_type": "code",
        "colab": {}
      },
      "source": [
        "mae = mean_absolute_error(res_train, y_reg2[0])\n",
        "mae"
      ],
      "execution_count": 0,
      "outputs": []
    },
    {
      "cell_type": "code",
      "metadata": {
        "id": "lm8tDdFXm-i9",
        "colab_type": "code",
        "colab": {}
      },
      "source": [
        "kt = kendalltau(res_train, y_reg2[0])\n",
        "kt"
      ],
      "execution_count": 0,
      "outputs": []
    },
    {
      "cell_type": "code",
      "metadata": {
        "id": "nkn6HUl3m-bT",
        "colab_type": "code",
        "colab": {}
      },
      "source": [
        "y_reg3 = svmutil.svm_predict(res_test, test, model_svm)"
      ],
      "execution_count": 0,
      "outputs": []
    },
    {
      "cell_type": "code",
      "metadata": {
        "id": "RykOUpMAm-Yj",
        "colab_type": "code",
        "colab": {}
      },
      "source": [
        "r2 = r2_score(res_test,y_reg3[0])\n",
        "r2"
      ],
      "execution_count": 0,
      "outputs": []
    },
    {
      "cell_type": "code",
      "metadata": {
        "id": "JpUC78yfm-Wb",
        "colab_type": "code",
        "colab": {}
      },
      "source": [
        "mae = mean_absolute_error(res_test, y_reg3[0])\n",
        "mae"
      ],
      "execution_count": 0,
      "outputs": []
    },
    {
      "cell_type": "code",
      "metadata": {
        "id": "vFwDqGgjm-VK",
        "colab_type": "code",
        "colab": {}
      },
      "source": [
        "from scipy.stats import kendalltau\n",
        "kt = kendalltau(res_test, y_reg3[0])\n",
        "kt"
      ],
      "execution_count": 0,
      "outputs": []
    },
    {
      "cell_type": "markdown",
      "metadata": {
        "id": "4Yj_LbzAnOyR",
        "colab_type": "text"
      },
      "source": [
        "**Classification : Relevant News Category Features**"
      ]
    },
    {
      "cell_type": "code",
      "metadata": {
        "id": "iZGkm651m-Rz",
        "colab_type": "code",
        "colab": {}
      },
      "source": [
        "data = pd.read_excel(\"NewsHeadlines_01012019_30092019.xlsx\")\n",
        "ls = [1 if i < 4761 else 0 for i in range(47611)]\n",
        "# data.set_index(\"Like Count\", inplace=True)\n",
        "data.sort_values(\"Like Count\", inplace=True,ascending=False)\n",
        "# print(data.head())\n",
        "data['class'] = ls\n",
        "index = data[\"Like Count\"].tolist()\n",
        "data[\"Category\"].replace({\"Tech\": \"Technology\",\"-\":\"Uncategorized\", \"Sports\":\"Sport\"}, inplace=True)\n",
        "data.head()"
      ],
      "execution_count": 0,
      "outputs": []
    },
    {
      "cell_type": "code",
      "metadata": {
        "id": "EgKxDi11m-Pe",
        "colab_type": "code",
        "colab": {}
      },
      "source": [
        "model_summary = FastText.load(\"model_summary.bin\")"
      ],
      "execution_count": 0,
      "outputs": []
    },
    {
      "cell_type": "code",
      "metadata": {
        "id": "dwL4v0qxm-Mr",
        "colab_type": "code",
        "colab": {}
      },
      "source": [
        "category = set(data[\"Category\"].values.tolist())\n",
        "headlines= []\n",
        "for sent_str in data[\"Headline\"]:\n",
        "#     sent_str = re.sub(r\"'\", \"\", str(sent_str).lower())\n",
        "    tokens = re.sub(r\"[^a-z0-9]+\", \" \", str(sent_str).lower()).split()\n",
        "    if(tokens == []):\n",
        "        tokens = \"nan\"\n",
        "    headlines.append(tokens)\n",
        "    \n",
        "cat_vec = {}\n",
        "for c in category:\n",
        "    cat_vec[c] = model_summary[c]    \n",
        "    \n",
        "head_vec = []\n",
        "n = len(headlines)\n",
        "for h in range(n):\n",
        "    sum1 = np.array([0.0 for i in range(100)])\n",
        "    for tok in headlines[h]:\n",
        "        sum1+=model_summary[tok]\n",
        "#     print(sum1)\n",
        "    sum1 = sum1/len(headlines[h])\n",
        "#     print(sum1)\n",
        "    sum1 = np.concatenate((sum1,cat_vec[data[\"Category\"][h]]))\n",
        "    head_vec.append(sum1)"
      ],
      "execution_count": 0,
      "outputs": []
    },
    {
      "cell_type": "code",
      "metadata": {
        "id": "4r5Vjf9fm-JZ",
        "colab_type": "code",
        "colab": {}
      },
      "source": [
        "train = head_vec[:4261]+head_vec[4761:4761*2]\n",
        "res_train = data[\"class\"][:4261].tolist()+data[\"class\"][4761:4761*2].tolist()\n",
        "test = head_vec[4261:4761]+head_vec[int(0.8*47611):]\n",
        "res_test = data[\"class\"][4261:4761].tolist()+data[\"class\"][int(0.8*47611):].tolist()\n",
        "print(len(train), len(res_train))"
      ],
      "execution_count": 0,
      "outputs": []
    },
    {
      "cell_type": "code",
      "metadata": {
        "id": "6Zm51RDhnecG",
        "colab_type": "code",
        "colab": {}
      },
      "source": [
        "model_svm_5050 = svmutil.svm_train(res_train, train,'-t 2 -c 2')"
      ],
      "execution_count": 0,
      "outputs": []
    },
    {
      "cell_type": "code",
      "metadata": {
        "id": "pOz3Huqzneao",
        "colab_type": "code",
        "colab": {}
      },
      "source": [
        "y_50 = svmutil.svm_predict(res_test, test, model_svm_5050)"
      ],
      "execution_count": 0,
      "outputs": []
    },
    {
      "cell_type": "code",
      "metadata": {
        "id": "pU4Ma4FfneYh",
        "colab_type": "code",
        "colab": {}
      },
      "source": [
        "y_1 = svmutil.svm_predict(res_test[:500], test[:500], model_svm_5050)"
      ],
      "execution_count": 0,
      "outputs": []
    },
    {
      "cell_type": "code",
      "metadata": {
        "id": "apmYcApvneVa",
        "colab_type": "code",
        "colab": {}
      },
      "source": [
        "from sklearn.metrics import confusion_matrix, auc, roc_curve"
      ],
      "execution_count": 0,
      "outputs": []
    },
    {
      "cell_type": "code",
      "metadata": {
        "id": "Q7O4aDHdneT1",
        "colab_type": "code",
        "colab": {}
      },
      "source": [
        "confusion_matrix(res_test, y_50[0], labels=[0,1])"
      ],
      "execution_count": 0,
      "outputs": []
    },
    {
      "cell_type": "code",
      "metadata": {
        "id": "-ziw6kH6neQP",
        "colab_type": "code",
        "colab": {}
      },
      "source": [
        "tn, fp, fn, tp = confusion_matrix(res_test, y_50[0], labels=[0,1]).ravel()"
      ],
      "execution_count": 0,
      "outputs": []
    },
    {
      "cell_type": "code",
      "metadata": {
        "id": "cuAdO9oVneOS",
        "colab_type": "code",
        "colab": {}
      },
      "source": [
        "recall = tp/(tp+fn)\n",
        "recall"
      ],
      "execution_count": 0,
      "outputs": []
    },
    {
      "cell_type": "code",
      "metadata": {
        "id": "hlPGYMEnneKJ",
        "colab_type": "code",
        "colab": {}
      },
      "source": [
        "precision = tp/(tp+fp)\n",
        "precision"
      ],
      "execution_count": 0,
      "outputs": []
    },
    {
      "cell_type": "code",
      "metadata": {
        "id": "C6mZcxebm-CY",
        "colab_type": "code",
        "colab": {}
      },
      "source": [
        "f1 = precision*recall*2/(precision+recall)\n",
        "f1"
      ],
      "execution_count": 0,
      "outputs": []
    },
    {
      "cell_type": "code",
      "metadata": {
        "id": "TkqHPNAZnsRK",
        "colab_type": "code",
        "colab": {}
      },
      "source": [
        "fpr, tpr, thresholds = roc_curve(res_test, y_50[0])\n",
        "AUC = auc(fpr, tpr)\n",
        "AUC"
      ],
      "execution_count": 0,
      "outputs": []
    },
    {
      "cell_type": "code",
      "metadata": {
        "id": "6f9RSmoDnsOC",
        "colab_type": "code",
        "colab": {}
      },
      "source": [
        "svmutil.svm_save_model(\"model_svm.bin\",model_svm_5050)"
      ],
      "execution_count": 0,
      "outputs": []
    },
    {
      "cell_type": "code",
      "metadata": {
        "id": "ocLf5EWunsL7",
        "colab_type": "code",
        "colab": {}
      },
      "source": [
        "svmutil.svm_train(res_train, train,'-v 10 -t 2 -c 2')"
      ],
      "execution_count": 0,
      "outputs": []
    },
    {
      "cell_type": "markdown",
      "metadata": {
        "id": "W78AFsSLnzHb",
        "colab_type": "text"
      },
      "source": [
        "**Regression: Named Entity Features**"
      ]
    },
    {
      "cell_type": "code",
      "metadata": {
        "id": "23WXaVxBnsHq",
        "colab_type": "code",
        "colab": {}
      },
      "source": [
        "import pandas as pd\n",
        "from gensim.models import FastText\n",
        "import re\n",
        "import numpy as np\n",
        "from libsvm import svmutil\n",
        "import libsvm\n",
        "from sklearn.metrics import r2_score, mean_absolute_error\n",
        "from scipy.stats import kendalltau"
      ],
      "execution_count": 0,
      "outputs": []
    },
    {
      "cell_type": "code",
      "metadata": {
        "id": "s54yF7XdnsEg",
        "colab_type": "code",
        "colab": {}
      },
      "source": [
        "model_summary = FastText.load(\"models-4.1(a)/model_summary.bin\")\n",
        "data = pd.read_csv(\"data_ner.csv\", sep=\";\")\n",
        "headlines = data[\"ner_tokens\"].astype(str).tolist()"
      ],
      "execution_count": 0,
      "outputs": []
    },
    {
      "cell_type": "code",
      "metadata": {
        "id": "b7Kvgq7MnsBX",
        "colab_type": "code",
        "colab": {}
      },
      "source": [
        "head_vec = []\n",
        "n = len(headlines)\n",
        "for h in range(n):\n",
        "    sum1 = np.array([0.0 for i in range(100)])\n",
        "    for tok in headlines[h]:\n",
        "        sum1+=model_summary[tok[0]]\n",
        "#     print(sum1)\n",
        "    sum1 = sum1/len(headlines[h])\n",
        "#     print(sum1)\n",
        "    head_vec.append(sum1)"
      ],
      "execution_count": 0,
      "outputs": []
    },
    {
      "cell_type": "code",
      "metadata": {
        "id": "IQ_QejmloMGL",
        "colab_type": "code",
        "colab": {}
      },
      "source": [
        "feat_len = int(0.8*len(head_vec))\n",
        "train = head_vec[:feat_len]\n",
        "res_train = list(np.log2(np.array(data[\"Like Count\"][:feat_len].tolist())+1))\n",
        "test = head_vec[feat_len:]\n",
        "res_test = list(np.log2(np.array(data[\"Like Count\"][feat_len:].tolist())+1))\n",
        "print(len(train), len(res_train))"
      ],
      "execution_count": 0,
      "outputs": []
    },
    {
      "cell_type": "code",
      "metadata": {
        "id": "gSwxSzSOoMCw",
        "colab_type": "code",
        "colab": {}
      },
      "source": [
        "model_svm = svmutil.svm_train(res_train, train,'-s 4 -t 2 -c 2')"
      ],
      "execution_count": 0,
      "outputs": []
    },
    {
      "cell_type": "code",
      "metadata": {
        "id": "-LstT_f1oL_q",
        "colab_type": "code",
        "colab": {}
      },
      "source": [
        "y_reg = svmutil.svm_predict(res_test, test, model_svm)"
      ],
      "execution_count": 0,
      "outputs": []
    },
    {
      "cell_type": "code",
      "metadata": {
        "id": "vuenV-stoL8B",
        "colab_type": "code",
        "colab": {}
      },
      "source": [
        "r2 = r2_score(res_test,y_reg[0])\n",
        "r2"
      ],
      "execution_count": 0,
      "outputs": []
    },
    {
      "cell_type": "code",
      "metadata": {
        "id": "_b3vcdfEoL44",
        "colab_type": "code",
        "colab": {}
      },
      "source": [
        "mae = mean_absolute_error(res_test, y_reg[0])\n",
        "mae"
      ],
      "execution_count": 0,
      "outputs": []
    },
    {
      "cell_type": "code",
      "metadata": {
        "id": "omXfamhHoLwy",
        "colab_type": "code",
        "colab": {}
      },
      "source": [
        "kt = kendalltau(res_test, y_reg[0])\n",
        "kt"
      ],
      "execution_count": 0,
      "outputs": []
    },
    {
      "cell_type": "code",
      "metadata": {
        "id": "6WZyPDpMoLtK",
        "colab_type": "code",
        "colab": {}
      },
      "source": [
        "y_full = svmutil.svm_predict(res_test+res_train, test+train, model_svm)"
      ],
      "execution_count": 0,
      "outputs": []
    },
    {
      "cell_type": "code",
      "metadata": {
        "id": "6q5Rfi3_oaVr",
        "colab_type": "code",
        "colab": {}
      },
      "source": [
        "r2 = r2_score(res_test+res_train,y_full[0])\n",
        "r2"
      ],
      "execution_count": 0,
      "outputs": []
    },
    {
      "cell_type": "code",
      "metadata": {
        "id": "-ysvOEvPoaT4",
        "colab_type": "code",
        "colab": {}
      },
      "source": [
        "mae = mean_absolute_error(res_test+res_train, y_full[0])\n",
        "mae"
      ],
      "execution_count": 0,
      "outputs": []
    },
    {
      "cell_type": "code",
      "metadata": {
        "id": "_fMLDWjooaPt",
        "colab_type": "code",
        "colab": {}
      },
      "source": [
        "kt = kendalltau(res_test+res_train, y_full[0])\n",
        "kt"
      ],
      "execution_count": 0,
      "outputs": []
    },
    {
      "cell_type": "code",
      "metadata": {
        "id": "sijv4P2UoaN0",
        "colab_type": "code",
        "colab": {}
      },
      "source": [
        "y_tr = svmutil.svm_predict(res_train, train, model_svm)"
      ],
      "execution_count": 0,
      "outputs": []
    },
    {
      "cell_type": "code",
      "metadata": {
        "id": "V1V2nB_aoaJu",
        "colab_type": "code",
        "colab": {}
      },
      "source": [
        "r2 = r2_score(res_train,y_tr[0])\n",
        "r2"
      ],
      "execution_count": 0,
      "outputs": []
    },
    {
      "cell_type": "code",
      "metadata": {
        "id": "GjfiX-DKoaGm",
        "colab_type": "code",
        "colab": {}
      },
      "source": [
        "mae = mean_absolute_error(res_train, y_tr[0])\n",
        "mae"
      ],
      "execution_count": 0,
      "outputs": []
    },
    {
      "cell_type": "code",
      "metadata": {
        "id": "pUFAREKzoaC7",
        "colab_type": "code",
        "colab": {}
      },
      "source": [
        "kt = kendalltau(res_train, y_tr[0])\n",
        "kt"
      ],
      "execution_count": 0,
      "outputs": []
    },
    {
      "cell_type": "code",
      "metadata": {
        "id": "eabZZur3oZ-j",
        "colab_type": "code",
        "colab": {}
      },
      "source": [
        "model_svm_reg = svmutil.svm_train(res_train+res_test, train+test,'-s 4 -v 10 -t 2 -c 2')"
      ],
      "execution_count": 0,
      "outputs": []
    },
    {
      "cell_type": "code",
      "metadata": {
        "id": "552meR67oZ8k",
        "colab_type": "code",
        "colab": {}
      },
      "source": [
        "svmutil.svm_save_model(\"model_b_reg.bin\",model_svm)"
      ],
      "execution_count": 0,
      "outputs": []
    },
    {
      "cell_type": "markdown",
      "metadata": {
        "id": "71nIjCcUopg3",
        "colab_type": "text"
      },
      "source": [
        "**Classification: Named Entity Feature**"
      ]
    },
    {
      "cell_type": "code",
      "metadata": {
        "id": "qQCKT8sRoZ4p",
        "colab_type": "code",
        "colab": {}
      },
      "source": [
        "from nltk.tag import StanfordNERTagger"
      ],
      "execution_count": 0,
      "outputs": []
    },
    {
      "cell_type": "code",
      "metadata": {
        "id": "XXxOt9tLo0n_",
        "colab_type": "code",
        "colab": {}
      },
      "source": [
        "model_summary = FastText.load(\"models-4.1(a)/model_summary.bin\")"
      ],
      "execution_count": 0,
      "outputs": []
    },
    {
      "cell_type": "code",
      "metadata": {
        "id": "I3vzbvWXo0ry",
        "colab_type": "code",
        "colab": {}
      },
      "source": [
        "st = StanfordNERTagger('stanford-ner-2018-10-16/classifiers/english.all.3class.distsim.crf.ser.gz', 'stanford-ner-2018-10-16/stanford-ner.jar') # doctest: +SKIP"
      ],
      "execution_count": 0,
      "outputs": []
    },
    {
      "cell_type": "code",
      "metadata": {
        "id": "eyqc4Ut1o0v9",
        "colab_type": "code",
        "colab": {}
      },
      "source": [
        "data = pd.read_excel(\"NewsHeadlines_01012019_30092019.xlsx\")\n",
        "ls = [1 if i < 4761 else 0 for i in range(47611)]\n",
        "# data.set_index(\"Like Count\", inplace=True)\n",
        "data.sort_values(\"Like Count\", inplace=True,ascending=False)\n",
        "data['class'] = ls\n",
        "data.reset_index(inplace=True,drop=True)\n",
        "data = data.truncate(before=0,after=4761*2)\n",
        "data = data.sample(frac=1)"
      ],
      "execution_count": 0,
      "outputs": []
    },
    {
      "cell_type": "code",
      "metadata": {
        "id": "UQSq7PhSo8F-",
        "colab_type": "code",
        "colab": {}
      },
      "source": [
        "headlines= []\n",
        "i= 0\n",
        "for sent_str in data[\"Headline\"]:\n",
        "    print(i)\n",
        "    i+=1\n",
        "    tokens = re.sub(r\"[^A-Za-z0-9]+\", \" \", str(sent_str)).split()\n",
        "    if(tokens == []):\n",
        "        tokens = \"nan\"\n",
        "    tokens = st.tag(tokens)\n",
        "#     print(tokens)\n",
        "    headlines.append([])\n",
        "    for t in tokens:\n",
        "        if(t[1]!='O'):\n",
        "            headlines[-1].append(t)\n",
        "    if(len(headlines[-1]) == 0):\n",
        "        headlines[-1] = \"nan\"\n",
        "    \n"
      ],
      "execution_count": 0,
      "outputs": []
    },
    {
      "cell_type": "code",
      "metadata": {
        "id": "SCvC3RIjo8JD",
        "colab_type": "code",
        "colab": {}
      },
      "source": [
        "head_vec = []\n",
        "n = len(headlines)\n",
        "for h in range(n):\n",
        "    sum1 = np.array([0.0 for i in range(100)])\n",
        "    for tok in headlines[h]:\n",
        "        sum1+=model_summary[tok[0]]\n",
        "    sum1 = sum1/len(headlines[h])\n",
        "    head_vec.append(sum1)\n"
      ],
      "execution_count": 0,
      "outputs": []
    },
    {
      "cell_type": "code",
      "metadata": {
        "id": "KXaTur9lo8OO",
        "colab_type": "code",
        "colab": {}
      },
      "source": [
        "data[\"ner_tokens\"] = headlines"
      ],
      "execution_count": 0,
      "outputs": []
    },
    {
      "cell_type": "code",
      "metadata": {
        "id": "93lCyP0yo8RX",
        "colab_type": "code",
        "colab": {}
      },
      "source": [
        "feat_len = int(0.8*len(head_vec))\n",
        "train = head_vec[:feat_len]\n",
        "res_train = data[\"class\"][:feat_len].tolist()\n",
        "test = head_vec[feat_len::]\n",
        "res_test = data[\"class\"][feat_len:].tolist()\n",
        "print(len(train), len(res_train))"
      ],
      "execution_count": 0,
      "outputs": []
    },
    {
      "cell_type": "code",
      "metadata": {
        "id": "nH9TpYL-o8W1",
        "colab_type": "code",
        "colab": {}
      },
      "source": [
        "model_svm = svmutil.svm_train(res_train, train,'-t 2 -c 2')"
      ],
      "execution_count": 0,
      "outputs": []
    },
    {
      "cell_type": "code",
      "metadata": {
        "id": "mhGbvFavo8gf",
        "colab_type": "code",
        "colab": {}
      },
      "source": [
        "\n",
        "y = svmutil.svm_predict(res_test, test, model_svm)"
      ],
      "execution_count": 0,
      "outputs": []
    },
    {
      "cell_type": "code",
      "metadata": {
        "id": "QXs7sZuuo8lq",
        "colab_type": "code",
        "colab": {}
      },
      "source": [
        "confusion_matrix(res_test, y[0], labels=[0,1])"
      ],
      "execution_count": 0,
      "outputs": []
    },
    {
      "cell_type": "code",
      "metadata": {
        "id": "f0sLXPPHo8qW",
        "colab_type": "code",
        "colab": {}
      },
      "source": [
        "tn, fp, fn, tp = confusion_matrix(res_test, y[0], labels=[0,1]).ravel()"
      ],
      "execution_count": 0,
      "outputs": []
    },
    {
      "cell_type": "code",
      "metadata": {
        "id": "zwzx2xUro8vm",
        "colab_type": "code",
        "colab": {}
      },
      "source": [
        "recall = tp/(tp+fn)\n",
        "recall"
      ],
      "execution_count": 0,
      "outputs": []
    },
    {
      "cell_type": "code",
      "metadata": {
        "id": "qH2keHbdo80i",
        "colab_type": "code",
        "colab": {}
      },
      "source": [
        "precision = tp/(tp+fp)\n",
        "precision"
      ],
      "execution_count": 0,
      "outputs": []
    },
    {
      "cell_type": "code",
      "metadata": {
        "id": "76WWOffgo85c",
        "colab_type": "code",
        "colab": {}
      },
      "source": [
        "f1 = precision*recall*2/(precision+recall)\n",
        "f1"
      ],
      "execution_count": 0,
      "outputs": []
    },
    {
      "cell_type": "code",
      "metadata": {
        "id": "xWVWB87to8-6",
        "colab_type": "code",
        "colab": {}
      },
      "source": [
        "fpr, tpr, thresholds = roc_curve(res_test, y[0])\n",
        "AUC = auc(fpr, tpr)\n",
        "AUC"
      ],
      "execution_count": 0,
      "outputs": []
    },
    {
      "cell_type": "code",
      "metadata": {
        "id": "qtcSZHtwo834",
        "colab_type": "code",
        "colab": {}
      },
      "source": [
        "svmutil.svm_save_model(\"model_b_classification.bin\",model_svm)"
      ],
      "execution_count": 0,
      "outputs": []
    },
    {
      "cell_type": "code",
      "metadata": {
        "id": "rNV81qJbo8yy",
        "colab_type": "code",
        "colab": {}
      },
      "source": [
        "svmutil.svm_train(res_train, train,'-v 10 -t 2 -c 2')"
      ],
      "execution_count": 0,
      "outputs": []
    },
    {
      "cell_type": "markdown",
      "metadata": {
        "id": "v5tS2xNmpU8Z",
        "colab_type": "text"
      },
      "source": [
        "**Regression: Richness Post Type Features**"
      ]
    },
    {
      "cell_type": "code",
      "metadata": {
        "id": "w_3zDsWPpUrk",
        "colab_type": "code",
        "colab": {}
      },
      "source": [
        "model_summary = FastText.load(\"models-4.1(a)/model_summary.bin\")\n",
        "\n",
        "data = pd.read_excel(\"NewsHeadlines_01012019_30092019.xlsx\")\n",
        "data.columns =[column.replace(\" \", \"_\") for column in data.columns]\n",
        "data.query(' Post_Type == \"photo\" or Post_Type == \"video\" or Post_Type == \"link\" ', inplace=True)\n",
        "data.reset_index(inplace=True, drop=True)\n",
        "\n",
        "post_types = set(data[\"Post_Type\"].tolist())\n",
        "headlines= []\n",
        "for sent_str in data[\"Headline\"]:\n",
        "#     sent_str = re.sub(r\"'\", \"\", str(sent_str).lower())\n",
        "    tokens = re.sub(r\"[^a-z0-9]+\", \" \", str(sent_str).lower()).split()\n",
        "    if(tokens == []):\n",
        "        tokens = \"nan\"\n",
        "    headlines.append(tokens)\n",
        "    \n",
        "cat_vec = {}\n",
        "for c in post_types:\n",
        "    cat_vec[c] = model_summary[c]    \n",
        "    \n",
        "head_vec = []\n",
        "n = len(headlines)\n",
        "for h in range(n):\n",
        "    sum1 = np.array([0.0 for i in range(100)])\n",
        "    for tok in headlines[h]:\n",
        "        sum1+=model_summary[tok]\n",
        "#     print(sum1)\n",
        "    sum1 = sum1/len(headlines[h])\n",
        "#     print(sum1)\n",
        "    sum1 = np.concatenate((sum1,cat_vec[data[\"Post_Type\"][h]]))\n",
        "    head_vec.append(sum1)\n",
        "\n",
        "feat_len = int(0.8*len(head_vec))\n",
        "train = head_vec[:feat_len]\n",
        "res_train = list(np.log2(np.array(data[\"Like_Count\"][:feat_len].tolist())+1))\n",
        "test = head_vec[feat_len::]\n",
        "res_test = list(np.log2(np.array(data[\"Like_Count\"][feat_len:].tolist())+1))\n",
        "print(len(train), len(res_train))\n",
        "\n",
        "svmutil.svm_save_model(\"model_c_reg.bin\",model_svm)"
      ],
      "execution_count": 0,
      "outputs": []
    },
    {
      "cell_type": "code",
      "metadata": {
        "id": "wGgfsnRdpUqN",
        "colab_type": "code",
        "colab": {}
      },
      "source": [
        "y_reg = svmutil.svm_predict(res_test, test, model_svm)"
      ],
      "execution_count": 0,
      "outputs": []
    },
    {
      "cell_type": "code",
      "metadata": {
        "id": "h9rF1xaspUnK",
        "colab_type": "code",
        "colab": {}
      },
      "source": [
        "r2 = r2_score(res_test,y_reg[0])\n",
        "r2"
      ],
      "execution_count": 0,
      "outputs": []
    },
    {
      "cell_type": "code",
      "metadata": {
        "id": "wCn5caTdpUi-",
        "colab_type": "code",
        "colab": {}
      },
      "source": [
        "mae = mean_absolute_error(res_test, y_reg[0])\n",
        "mae"
      ],
      "execution_count": 0,
      "outputs": []
    },
    {
      "cell_type": "code",
      "metadata": {
        "id": "NYm02fW8pUg8",
        "colab_type": "code",
        "colab": {}
      },
      "source": [
        "kt = kendalltau(res_test, y_reg[0])\n",
        "kt"
      ],
      "execution_count": 0,
      "outputs": []
    },
    {
      "cell_type": "code",
      "metadata": {
        "id": "3eo2cIQ8pUeA",
        "colab_type": "code",
        "colab": {}
      },
      "source": [
        "y_full = svmutil.svm_predict(res_test+res_train, test+train, model_svm)"
      ],
      "execution_count": 0,
      "outputs": []
    },
    {
      "cell_type": "code",
      "metadata": {
        "id": "eBTgZlCSpUcq",
        "colab_type": "code",
        "colab": {}
      },
      "source": [
        "r2 = r2_score(res_test+res_train,y_full[0])\n",
        "r2"
      ],
      "execution_count": 0,
      "outputs": []
    },
    {
      "cell_type": "code",
      "metadata": {
        "id": "SKyhTf49pUal",
        "colab_type": "code",
        "colab": {}
      },
      "source": [
        "mae = mean_absolute_error(res_test+res_train, y_full[0])\n",
        "mae"
      ],
      "execution_count": 0,
      "outputs": []
    },
    {
      "cell_type": "code",
      "metadata": {
        "id": "LYprs9cyrR9p",
        "colab_type": "code",
        "colab": {}
      },
      "source": [
        "kt = kendalltau(res_test+res_train, y_full[0])\n",
        "kt"
      ],
      "execution_count": 0,
      "outputs": []
    },
    {
      "cell_type": "code",
      "metadata": {
        "id": "hLsQop2urR7v",
        "colab_type": "code",
        "colab": {}
      },
      "source": [
        "y_tr = svmutil.svm_predict(res_train, train, model_svm)"
      ],
      "execution_count": 0,
      "outputs": []
    },
    {
      "cell_type": "code",
      "metadata": {
        "id": "klXNis3DrR2Y",
        "colab_type": "code",
        "colab": {}
      },
      "source": [
        "r2 = r2_score(res_train,y_tr[0])\n",
        "r2"
      ],
      "execution_count": 0,
      "outputs": []
    },
    {
      "cell_type": "code",
      "metadata": {
        "id": "T6HzFr4ErWIz",
        "colab_type": "code",
        "colab": {}
      },
      "source": [
        "mae = mean_absolute_error(res_train, y_tr[0])\n",
        "mae"
      ],
      "execution_count": 0,
      "outputs": []
    },
    {
      "cell_type": "code",
      "metadata": {
        "id": "DstnfmdvrWFN",
        "colab_type": "code",
        "colab": {}
      },
      "source": [
        "kt = kendalltau(res_train, y_tr[0])\n",
        "kt"
      ],
      "execution_count": 0,
      "outputs": []
    },
    {
      "cell_type": "markdown",
      "metadata": {
        "id": "qu764vx7qUxm",
        "colab_type": "text"
      },
      "source": [
        "**Classification: Richnes Post Type Feature**"
      ]
    },
    {
      "cell_type": "code",
      "metadata": {
        "id": "NVq1-CXfpUW7",
        "colab_type": "code",
        "colab": {}
      },
      "source": [
        "model_summary = FastText.load(\"models-4.1(a)/model_summary.bin\")"
      ],
      "execution_count": 0,
      "outputs": []
    },
    {
      "cell_type": "code",
      "metadata": {
        "id": "Exs2k4QKpUTB",
        "colab_type": "code",
        "colab": {}
      },
      "source": [
        "data = pd.read_excel(\"NewsHeadlines_01012019_30092019.xlsx\")\n",
        "data.columns =[column.replace(\" \", \"_\") for column in data.columns] \n",
        "ls = [1 if i < 4761 else 0 for i in range(47611)]\n",
        "# data.set_index(\"Like Count\", inplace=True)\n",
        "data.sort_values(\"Like_Count\", inplace=True,ascending=False)\n",
        "data['class'] = ls\n",
        "data.query(' Post_Type == \"photo\" or Post_Type == \"video\" or Post_Type == \"link\" ', inplace=True)\n",
        "data.reset_index(inplace=True, drop=True)\n",
        "data = data.truncate(before=0,after=4761*2)\n",
        "data = data.sample(frac=1)\n",
        "\n",
        "post_types = set(data[\"Post_Type\"].tolist())\n",
        "headlines= []\n",
        "for sent_str in data[\"Headline\"]:\n",
        "#     sent_str = re.sub(r\"'\", \"\", str(sent_str).lower())\n",
        "    tokens = re.sub(r\"[^a-z0-9]+\", \" \", str(sent_str).lower()).split()\n",
        "    if(tokens == []):\n",
        "        tokens = \"nan\"\n",
        "    headlines.append(tokens)\n",
        "    \n",
        "cat_vec = {}\n",
        "for c in post_types:\n",
        "    cat_vec[c] = model_summary[c]    \n",
        "    \n",
        "head_vec = []\n",
        "n = len(headlines)\n",
        "for h in range(n):\n",
        "    sum1 = np.array([0.0 for i in range(100)])\n",
        "    for tok in headlines[h]:\n",
        "        sum1+=model_summary[tok]\n",
        "#     print(sum1)\n",
        "    sum1 = sum1/len(headlines[h])\n",
        "#     print(sum1)\n",
        "    sum1 = np.concatenate((sum1,cat_vec[data[\"Post_Type\"][h]]))\n",
        "    head_vec.append(sum1)\n",
        "\n",
        "feat_len = int(0.8*len(head_vec))\n",
        "train = head_vec[:feat_len]\n",
        "res_train = data[\"class\"][:feat_len].tolist()\n",
        "test = head_vec[feat_len::]\n",
        "res_test = data[\"class\"][feat_len:].tolist()\n",
        "print(len(train), len(res_train))    "
      ],
      "execution_count": 0,
      "outputs": []
    },
    {
      "cell_type": "code",
      "metadata": {
        "id": "diygCwMVo8tP",
        "colab_type": "code",
        "colab": {}
      },
      "source": [
        "model_svm_50100 = svmutil.svm_train(res_train, train,'-t 2 -c 2')"
      ],
      "execution_count": 0,
      "outputs": []
    },
    {
      "cell_type": "code",
      "metadata": {
        "id": "HQU5JK32o8jU",
        "colab_type": "code",
        "colab": {}
      },
      "source": [
        "y = svmutil.svm_predict(res_test, test, model_svm_50100)"
      ],
      "execution_count": 0,
      "outputs": []
    },
    {
      "cell_type": "code",
      "metadata": {
        "id": "Tz8uAdtIo8eZ",
        "colab_type": "code",
        "colab": {}
      },
      "source": [
        "confusion_matrix(res_test, y[0], labels=[0,1])"
      ],
      "execution_count": 0,
      "outputs": []
    },
    {
      "cell_type": "code",
      "metadata": {
        "id": "H-0eeZDNo8cB",
        "colab_type": "code",
        "colab": {}
      },
      "source": [
        "tn, fp, fn, tp = confusion_matrix(res_test, y[0], labels=[0,1]).ravel()"
      ],
      "execution_count": 0,
      "outputs": []
    },
    {
      "cell_type": "code",
      "metadata": {
        "id": "iwqfcxSSo8ac",
        "colab_type": "code",
        "colab": {}
      },
      "source": [
        "recall = tp/(tp+fn)\n",
        "recall"
      ],
      "execution_count": 0,
      "outputs": []
    },
    {
      "cell_type": "code",
      "metadata": {
        "id": "7aLosd5To8U-",
        "colab_type": "code",
        "colab": {}
      },
      "source": [
        "precision = tp/(tp+fp)\n",
        "precision"
      ],
      "execution_count": 0,
      "outputs": []
    },
    {
      "cell_type": "code",
      "metadata": {
        "id": "pz_SyqWuo8Ms",
        "colab_type": "code",
        "colab": {}
      },
      "source": [
        "f1 = precision*recall*2/(precision+recall)\n",
        "f1"
      ],
      "execution_count": 0,
      "outputs": []
    },
    {
      "cell_type": "code",
      "metadata": {
        "id": "uHiZROo4qsAM",
        "colab_type": "code",
        "colab": {}
      },
      "source": [
        "fpr, tpr, thresholds = roc_curve(res_test, y[0])\n",
        "AUC = auc(fpr, tpr)\n",
        "AUC"
      ],
      "execution_count": 0,
      "outputs": []
    },
    {
      "cell_type": "code",
      "metadata": {
        "id": "gMqIpNrDqr8l",
        "colab_type": "code",
        "colab": {}
      },
      "source": [
        "svmutil.svm_save_model(\"model_b_svm.bin\",model_svm_50100)"
      ],
      "execution_count": 0,
      "outputs": []
    },
    {
      "cell_type": "code",
      "metadata": {
        "id": "QtiHSH3Bqr6z",
        "colab_type": "code",
        "colab": {}
      },
      "source": [
        "svmutil.svm_train(res_train, train,'-v 10 -t 2 -c 2')"
      ],
      "execution_count": 0,
      "outputs": []
    },
    {
      "cell_type": "markdown",
      "metadata": {
        "id": "OD2YeuforuDB",
        "colab_type": "text"
      },
      "source": [
        "**Classification: Linguistics Style Feature**"
      ]
    },
    {
      "cell_type": "code",
      "metadata": {
        "id": "VBlWiCboqr5M",
        "colab_type": "code",
        "colab": {}
      },
      "source": [
        "model_summary = FastText.load(\"models-4.1(a)/model_summary.bin\")\n",
        "st = StanfordPOSTagger('stanford-postagger-2018-10-16/models/english-bidirectional-distsim.tagger', 'stanford-postagger-2018-10-16/stanford-postagger.jar') # doctest: +SKIP"
      ],
      "execution_count": 0,
      "outputs": []
    },
    {
      "cell_type": "code",
      "metadata": {
        "id": "H52qwec2sTBa",
        "colab_type": "code",
        "colab": {}
      },
      "source": [
        "data = pd.read_excel(\"NewsHeadlines_01012019_30092019.xlsx\")\n",
        "ls = [1 if i < 4761 else 0 for i in range(47611)]\n",
        "data.sort_values(\"Like Count\", inplace=True,ascending=False)\n",
        "data['class'] = ls\n",
        "data.query(' Headline != \"-\" ', inplace=True)\n",
        "data.reset_index(inplace=True, drop=True)\n",
        "data = data.truncate(before=0,after=4761*2)\n",
        "data = data.sample(frac=1)"
      ],
      "execution_count": 0,
      "outputs": []
    },
    {
      "cell_type": "code",
      "metadata": {
        "id": "JUOzJCDJsS72",
        "colab_type": "code",
        "colab": {}
      },
      "source": [
        "def get_vector(h):\n",
        "    \n",
        "    headlines= []\n",
        "    i= 0\n",
        "    for sent_str in h:\n",
        "\n",
        "        print(i)\n",
        "\n",
        "        i+=1\n",
        "\n",
        "        sent_str = str(sent_str)\n",
        "\n",
        "        headlines.append([0,0,0,0,0,0])\n",
        "\n",
        "        headlines[-1][0] = len(sent_str)\n",
        "\n",
        "        tokens = str(sent_str).split()\n",
        "\n",
        "        headlines[-1][1] = len(tokens)\n",
        "\n",
        "        if(tokens == []):\n",
        "            print(sent_str, \" error sentence \")\n",
        "\n",
        "        tokens = st.tag(tokens)\n",
        "#         print(tokens)\n",
        "\n",
        "        for t in tokens:\n",
        "\n",
        "            if(t[1] == 'JJR'):\n",
        "                headlines[-1][4] += 1\n",
        "\n",
        "            if(t[1] == 'JJS'):\n",
        "                headlines[-1][5] += 1\n",
        "\n",
        "            if(len(t[0]) > 6):\n",
        "                headlines[-1][2] += 1\n",
        "\n",
        "            if(t[0] == t[0].upper()):\n",
        "                headlines[-1][3] += 1\n",
        "    \n",
        "    return headlines"
      ],
      "execution_count": 0,
      "outputs": []
    },
    {
      "cell_type": "code",
      "metadata": {
        "id": "ZXl0umTisS3r",
        "colab_type": "code",
        "colab": {}
      },
      "source": [
        "dic = {'-' : 0, 'nan' : 0}\n",
        "for sent in data['Headline']:\n",
        "    if(str(sent) in dic):\n",
        "        dic[str(sent)]+=1\n",
        "#         print(sent)"
      ],
      "execution_count": 0,
      "outputs": []
    },
    {
      "cell_type": "code",
      "metadata": {
        "id": "WjNJMJWOsSnX",
        "colab_type": "code",
        "colab": {}
      },
      "source": [
        "head_vec = get_vector(data['Headline'])"
      ],
      "execution_count": 0,
      "outputs": []
    },
    {
      "cell_type": "code",
      "metadata": {
        "id": "XEPLl1D2sSjM",
        "colab_type": "code",
        "colab": {}
      },
      "source": [
        "head_vec = np.array(head_vec)\n",
        "head_vec.shape"
      ],
      "execution_count": 0,
      "outputs": []
    },
    {
      "cell_type": "code",
      "metadata": {
        "id": "n9rzaF-PsShq",
        "colab_type": "code",
        "colab": {}
      },
      "source": [
        "np.save(\"part_d_features\", head_vec)"
      ],
      "execution_count": 0,
      "outputs": []
    },
    {
      "cell_type": "code",
      "metadata": {
        "id": "jgQ7g4l5sSdx",
        "colab_type": "code",
        "colab": {}
      },
      "source": [
        "data.to_csv(\"data_pos.csv\")"
      ],
      "execution_count": 0,
      "outputs": []
    },
    {
      "cell_type": "code",
      "metadata": {
        "id": "Ke6laPD-sSXO",
        "colab_type": "code",
        "colab": {}
      },
      "source": [
        "feat_len = int(0.8*len(head_vec))\n",
        "train = head_vec[:feat_len]\n",
        "res_train = data[\"class\"][:feat_len].tolist()\n",
        "test = head_vec[feat_len::]\n",
        "res_test = data[\"class\"][feat_len:].tolist()\n",
        "print(len(train), len(res_train))"
      ],
      "execution_count": 0,
      "outputs": []
    },
    {
      "cell_type": "code",
      "metadata": {
        "id": "oFpQ0sVDqr3l",
        "colab_type": "code",
        "colab": {}
      },
      "source": [
        "model_svm = svmutil.svm_train(res_train, train,'-t 2 -c 2')"
      ],
      "execution_count": 0,
      "outputs": []
    },
    {
      "cell_type": "code",
      "metadata": {
        "id": "KYS9qlfUqr1y",
        "colab_type": "code",
        "colab": {}
      },
      "source": [
        "y = svmutil.svm_predict(res_test, test, model_svm)"
      ],
      "execution_count": 0,
      "outputs": []
    },
    {
      "cell_type": "code",
      "metadata": {
        "id": "WbMWTtaDqrxm",
        "colab_type": "code",
        "colab": {}
      },
      "source": [
        "confusion_matrix(res_test, y[0], labels=[0,1])"
      ],
      "execution_count": 0,
      "outputs": []
    },
    {
      "cell_type": "code",
      "metadata": {
        "id": "9KVgLp5YqrtP",
        "colab_type": "code",
        "colab": {}
      },
      "source": [
        "tn, fp, fn, tp = confusion_matrix(res_test, y[0], labels=[0,1]).ravel()\n",
        "recall = tp/(tp+fn)\n",
        "recall"
      ],
      "execution_count": 0,
      "outputs": []
    },
    {
      "cell_type": "code",
      "metadata": {
        "id": "hs529WVestgS",
        "colab_type": "code",
        "colab": {}
      },
      "source": [
        "precision = tp/(tp+fp)\n",
        "precision"
      ],
      "execution_count": 0,
      "outputs": []
    },
    {
      "cell_type": "code",
      "metadata": {
        "id": "gtA094mDstee",
        "colab_type": "code",
        "colab": {}
      },
      "source": [
        "f1 = precision*recall*2/(precision+recall)\n",
        "f1"
      ],
      "execution_count": 0,
      "outputs": []
    },
    {
      "cell_type": "code",
      "metadata": {
        "id": "8aOPxJHYsta2",
        "colab_type": "code",
        "colab": {}
      },
      "source": [
        "fpr, tpr, thresholds = roc_curve(res_test, y[0])\n",
        "AUC = auc(fpr, tpr)\n",
        "AUC"
      ],
      "execution_count": 0,
      "outputs": []
    },
    {
      "cell_type": "code",
      "metadata": {
        "id": "Yj26KedRstZC",
        "colab_type": "code",
        "colab": {}
      },
      "source": [
        "svmutil.svm_save_model(\"model_d_classification.bin\",model_svm)"
      ],
      "execution_count": 0,
      "outputs": []
    },
    {
      "cell_type": "code",
      "metadata": {
        "id": "66C3gD0RstXq",
        "colab_type": "code",
        "colab": {}
      },
      "source": [
        "svmutil.svm_train(res_train+res_test, train+test,'-v 10 -t 2 -c 2')"
      ],
      "execution_count": 0,
      "outputs": []
    },
    {
      "cell_type": "code",
      "metadata": {
        "id": "sD_xzyl4stVp",
        "colab_type": "code",
        "colab": {}
      },
      "source": [
        ""
      ],
      "execution_count": 0,
      "outputs": []
    },
    {
      "cell_type": "code",
      "metadata": {
        "id": "x4c-KQkqstRM",
        "colab_type": "code",
        "colab": {}
      },
      "source": [
        ""
      ],
      "execution_count": 0,
      "outputs": []
    },
    {
      "cell_type": "code",
      "metadata": {
        "id": "iWtJ_OIdstNQ",
        "colab_type": "code",
        "colab": {}
      },
      "source": [
        ""
      ],
      "execution_count": 0,
      "outputs": []
    },
    {
      "cell_type": "markdown",
      "metadata": {
        "id": "WZj24RoqsT6m",
        "colab_type": "text"
      },
      "source": [
        "**Regression: Linguistics Style Feature**"
      ]
    },
    {
      "cell_type": "code",
      "metadata": {
        "id": "JlNt6cDNs6sf",
        "colab_type": "code",
        "colab": {}
      },
      "source": [
        "model_summary = FastText.load(\"models-4.1(a)/model_summary.bin\")\n",
        "data = pd.read_csv(\"data_pos.csv\")\n",
        "head_vec = np.load(\"part_d_features.npy\")"
      ],
      "execution_count": 0,
      "outputs": []
    },
    {
      "cell_type": "code",
      "metadata": {
        "id": "TQjGvjlcs6rP",
        "colab_type": "code",
        "colab": {}
      },
      "source": [
        "feat_len = int(0.8*len(head_vec))\n",
        "train = head_vec[:feat_len]\n",
        "res_train = list(np.log2(np.array(data[\"Like Count\"][:feat_len].tolist())+1))\n",
        "test = head_vec[feat_len:]\n",
        "res_test = list(np.log2(np.array(data[\"Like Count\"][feat_len:].tolist())+1))\n",
        "print(len(train), len(res_train))"
      ],
      "execution_count": 0,
      "outputs": []
    },
    {
      "cell_type": "code",
      "metadata": {
        "id": "dfVaJ0z1s6nS",
        "colab_type": "code",
        "colab": {}
      },
      "source": [
        "model_svm = svmutil.svm_train(res_train, train,'-s 4 -t 2 -c 2')"
      ],
      "execution_count": 0,
      "outputs": []
    },
    {
      "cell_type": "code",
      "metadata": {
        "id": "a36dE5nEs6lw",
        "colab_type": "code",
        "colab": {}
      },
      "source": [
        "y_reg = svmutil.svm_predict(res_test, test, model_svm)"
      ],
      "execution_count": 0,
      "outputs": []
    },
    {
      "cell_type": "code",
      "metadata": {
        "id": "SEHkbsZds6kK",
        "colab_type": "code",
        "colab": {}
      },
      "source": [
        "r2 = r2_score(res_test,y_reg[0])\n",
        "r2"
      ],
      "execution_count": 0,
      "outputs": []
    },
    {
      "cell_type": "code",
      "metadata": {
        "id": "KNvPpgPXs6gi",
        "colab_type": "code",
        "colab": {}
      },
      "source": [
        "mae = mean_absolute_error(res_test, y_reg[0])\n",
        "mae"
      ],
      "execution_count": 0,
      "outputs": []
    },
    {
      "cell_type": "code",
      "metadata": {
        "id": "nSJp5bXjs6ev",
        "colab_type": "code",
        "colab": {}
      },
      "source": [
        "kt = kendalltau(res_test, y_reg[0])\n",
        "kt"
      ],
      "execution_count": 0,
      "outputs": []
    },
    {
      "cell_type": "code",
      "metadata": {
        "id": "29X5Ksk6s6bm",
        "colab_type": "code",
        "colab": {}
      },
      "source": [
        "y_full = svmutil.svm_predict(res_test+res_train, list(test)+list(train), model_svm)"
      ],
      "execution_count": 0,
      "outputs": []
    },
    {
      "cell_type": "code",
      "metadata": {
        "id": "VFw8Xdvts6Z0",
        "colab_type": "code",
        "colab": {}
      },
      "source": [
        "r2 = r2_score(res_test+res_train,y_full[0])\n",
        "r2"
      ],
      "execution_count": 0,
      "outputs": []
    },
    {
      "cell_type": "code",
      "metadata": {
        "id": "Nw1bCFS3s6YI",
        "colab_type": "code",
        "colab": {}
      },
      "source": [
        "mae = mean_absolute_error(res_test+res_train, y_full[0])\n",
        "mae"
      ],
      "execution_count": 0,
      "outputs": []
    },
    {
      "cell_type": "code",
      "metadata": {
        "id": "JMg2Xcz_s6V1",
        "colab_type": "code",
        "colab": {}
      },
      "source": [
        "kt = kendalltau(res_test+res_train, y_full[0])\n",
        "kt"
      ],
      "execution_count": 0,
      "outputs": []
    },
    {
      "cell_type": "code",
      "metadata": {
        "id": "vNP2VsQRs6R8",
        "colab_type": "code",
        "colab": {}
      },
      "source": [
        "y_tr = svmutil.svm_predict(res_train, train, model_svm)"
      ],
      "execution_count": 0,
      "outputs": []
    },
    {
      "cell_type": "code",
      "metadata": {
        "id": "CtvNFFVHs6Qa",
        "colab_type": "code",
        "colab": {}
      },
      "source": [
        "r2 = r2_score(res_train,y_tr[0])\n",
        "r2"
      ],
      "execution_count": 0,
      "outputs": []
    },
    {
      "cell_type": "code",
      "metadata": {
        "id": "0SL428T1s6OE",
        "colab_type": "code",
        "colab": {}
      },
      "source": [
        "mae = mean_absolute_error(res_train, y_tr[0])\n",
        "mae"
      ],
      "execution_count": 0,
      "outputs": []
    },
    {
      "cell_type": "code",
      "metadata": {
        "id": "1MDktfSgs6MN",
        "colab_type": "code",
        "colab": {}
      },
      "source": [
        "kt = kendalltau(res_train, y_tr[0])\n",
        "kt"
      ],
      "execution_count": 0,
      "outputs": []
    },
    {
      "cell_type": "code",
      "metadata": {
        "id": "1YKmRdv1s6KY",
        "colab_type": "code",
        "colab": {}
      },
      "source": [
        "model_svm_reg = svmutil.svm_train(res_train+res_test, list(train)+list(test),'-s 4 -v 10 -t 2 -c 2')"
      ],
      "execution_count": 0,
      "outputs": []
    },
    {
      "cell_type": "code",
      "metadata": {
        "id": "twjSaEwBs6Ik",
        "colab_type": "code",
        "colab": {}
      },
      "source": [
        "svmutil.svm_save_model(\"model_d_reg.bin\",model_svm)"
      ],
      "execution_count": 0,
      "outputs": []
    },
    {
      "cell_type": "code",
      "metadata": {
        "id": "mVWE1Olos6EW",
        "colab_type": "code",
        "colab": {}
      },
      "source": [
        ""
      ],
      "execution_count": 0,
      "outputs": []
    },
    {
      "cell_type": "code",
      "metadata": {
        "id": "oq9v6GlZs5_1",
        "colab_type": "code",
        "colab": {}
      },
      "source": [
        ""
      ],
      "execution_count": 0,
      "outputs": []
    }
  ]
}