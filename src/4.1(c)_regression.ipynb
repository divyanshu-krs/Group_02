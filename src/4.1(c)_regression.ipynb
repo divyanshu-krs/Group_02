{
 "cells": [
  {
   "cell_type": "code",
   "execution_count": 10,
   "metadata": {},
   "outputs": [],
   "source": [
    "import pandas as pd\n",
    "from gensim.models import FastText\n",
    "import re\n",
    "import numpy as np\n",
    "from libsvm import svmutil\n",
    "import libsvm\n",
    "from sklearn.metrics import r2_score, mean_absolute_error\n",
    "from scipy.stats import kendalltau"
   ]
  },
  {
   "cell_type": "code",
   "execution_count": 2,
   "metadata": {},
   "outputs": [],
   "source": [
    "# data[\"Category\"].replace({\"Tech\": \"Technology\",\"-\":\"Uncategorized\", \"Sports\":\"Sport\"}, inplace=True)\n",
    "model_summary = FastText.load(\"models-4.1(a)/model_summary.bin\")\n"
   ]
  },
  {
   "cell_type": "code",
   "execution_count": 3,
   "metadata": {},
   "outputs": [],
   "source": [
    "data = pd.read_excel(\"NewsHeadlines_01012019_30092019.xlsx\")\n",
    "data.columns =[column.replace(\" \", \"_\") for column in data.columns]\n",
    "data.query(' Post_Type == \"photo\" or Post_Type == \"video\" or Post_Type == \"link\" ', inplace=True)\n",
    "data.reset_index(inplace=True, drop=True)\n"
   ]
  },
  {
   "cell_type": "code",
   "execution_count": 4,
   "metadata": {},
   "outputs": [
    {
     "name": "stderr",
     "output_type": "stream",
     "text": [
      "/home/prachi/anaconda3/envs/ml/lib/python3.7/site-packages/ipykernel_launcher.py:12: DeprecationWarning: Call to deprecated `__getitem__` (Method will be removed in 4.0.0, use self.wv.__getitem__() instead).\n",
      "  if sys.path[0] == '':\n",
      "/home/prachi/anaconda3/envs/ml/lib/python3.7/site-packages/ipykernel_launcher.py:19: DeprecationWarning: Call to deprecated `__getitem__` (Method will be removed in 4.0.0, use self.wv.__getitem__() instead).\n"
     ]
    }
   ],
   "source": [
    "post_types = set(data[\"Post_Type\"].tolist())\n",
    "headlines= []\n",
    "for sent_str in data[\"Headline\"]:\n",
    "#     sent_str = re.sub(r\"'\", \"\", str(sent_str).lower())\n",
    "    tokens = re.sub(r\"[^a-z0-9]+\", \" \", str(sent_str).lower()).split()\n",
    "    if(tokens == []):\n",
    "        tokens = \"nan\"\n",
    "    headlines.append(tokens)\n",
    "    \n",
    "cat_vec = {}\n",
    "for c in post_types:\n",
    "    cat_vec[c] = model_summary[c]    \n",
    "    \n",
    "head_vec = []\n",
    "n = len(headlines)\n",
    "for h in range(n):\n",
    "    sum1 = np.array([0.0 for i in range(100)])\n",
    "    for tok in headlines[h]:\n",
    "        sum1+=model_summary[tok]\n",
    "#     print(sum1)\n",
    "    sum1 = sum1/len(headlines[h])\n",
    "#     print(sum1)\n",
    "    sum1 = np.concatenate((sum1,cat_vec[data[\"Post_Type\"][h]]))\n",
    "    head_vec.append(sum1)"
   ]
  },
  {
   "cell_type": "code",
   "execution_count": 6,
   "metadata": {},
   "outputs": [
    {
     "name": "stdout",
     "output_type": "stream",
     "text": [
      "38064 38064\n"
     ]
    }
   ],
   "source": [
    "feat_len = int(0.8*len(head_vec))\n",
    "train = head_vec[:feat_len]\n",
    "res_train = list(np.log2(np.array(data[\"Like_Count\"][:feat_len].tolist())+1))\n",
    "test = head_vec[feat_len::]\n",
    "res_test = list(np.log2(np.array(data[\"Like_Count\"][feat_len:].tolist())+1))\n",
    "print(len(train), len(res_train))"
   ]
  },
  {
   "cell_type": "code",
   "execution_count": 7,
   "metadata": {},
   "outputs": [],
   "source": [
    "# model_svm = svmutil.svm_train(res_train, train,'-s 4 -t 2 -c 2')"
   ]
  },
  {
   "cell_type": "code",
   "execution_count": 19,
   "metadata": {},
   "outputs": [],
   "source": [
    "svmutil.svm_save_model(\"model_c_reg.bin\",model_svm)"
   ]
  },
  {
   "cell_type": "code",
   "execution_count": 8,
   "metadata": {},
   "outputs": [
    {
     "name": "stdout",
     "output_type": "stream",
     "text": [
      "Mean squared error = 5.26695 (regression)\n",
      "Squared correlation coefficient = 0.095472 (regression)\n"
     ]
    }
   ],
   "source": [
    "y_reg = svmutil.svm_predict(res_test, test, model_svm)"
   ]
  },
  {
   "cell_type": "code",
   "execution_count": 11,
   "metadata": {},
   "outputs": [
    {
     "data": {
      "text/plain": [
       "-0.1669129819160884"
      ]
     },
     "execution_count": 11,
     "metadata": {},
     "output_type": "execute_result"
    }
   ],
   "source": [
    "r2 = r2_score(res_test,y_reg[0])\n",
    "r2"
   ]
  },
  {
   "cell_type": "code",
   "execution_count": 13,
   "metadata": {},
   "outputs": [
    {
     "data": {
      "text/plain": [
       "1.788310632601459"
      ]
     },
     "execution_count": 13,
     "metadata": {},
     "output_type": "execute_result"
    }
   ],
   "source": [
    "mae = mean_absolute_error(res_test, y_reg[0])\n",
    "mae"
   ]
  },
  {
   "cell_type": "code",
   "execution_count": 14,
   "metadata": {},
   "outputs": [
    {
     "data": {
      "text/plain": [
       "KendalltauResult(correlation=0.18798736195967408, pvalue=2.3026195471272275e-165)"
      ]
     },
     "execution_count": 14,
     "metadata": {},
     "output_type": "execute_result"
    }
   ],
   "source": [
    "kt = kendalltau(res_test, y_reg[0])\n",
    "kt"
   ]
  },
  {
   "cell_type": "code",
   "execution_count": 15,
   "metadata": {},
   "outputs": [
    {
     "name": "stdout",
     "output_type": "stream",
     "text": [
      "Mean squared error = 3.3811 (regression)\n",
      "Squared correlation coefficient = 0.133888 (regression)\n"
     ]
    }
   ],
   "source": [
    "y_full = svmutil.svm_predict(res_test+res_train, test+train, model_svm)"
   ]
  },
  {
   "cell_type": "code",
   "execution_count": 16,
   "metadata": {},
   "outputs": [
    {
     "data": {
      "text/plain": [
       "0.12518770453790495"
      ]
     },
     "execution_count": 16,
     "metadata": {},
     "output_type": "execute_result"
    }
   ],
   "source": [
    "r2 = r2_score(res_test+res_train,y_full[0])\n",
    "r2"
   ]
  },
  {
   "cell_type": "code",
   "execution_count": 17,
   "metadata": {},
   "outputs": [
    {
     "data": {
      "text/plain": [
       "1.4494976067423697"
      ]
     },
     "execution_count": 17,
     "metadata": {},
     "output_type": "execute_result"
    }
   ],
   "source": [
    "mae = mean_absolute_error(res_test+res_train, y_full[0])\n",
    "mae"
   ]
  },
  {
   "cell_type": "code",
   "execution_count": 18,
   "metadata": {},
   "outputs": [
    {
     "data": {
      "text/plain": [
       "KendalltauResult(correlation=0.24028299649081708, pvalue=0.0)"
      ]
     },
     "execution_count": 18,
     "metadata": {},
     "output_type": "execute_result"
    }
   ],
   "source": [
    "kt = kendalltau(res_test+res_train, y_full[0])\n",
    "kt"
   ]
  },
  {
   "cell_type": "code",
   "execution_count": 20,
   "metadata": {},
   "outputs": [
    {
     "name": "stdout",
     "output_type": "stream",
     "text": [
      "Mean squared error = 2.90959 (regression)\n",
      "Squared correlation coefficient = 0.167139 (regression)\n"
     ]
    }
   ],
   "source": [
    "y_tr = svmutil.svm_predict(res_train, train, model_svm)"
   ]
  },
  {
   "cell_type": "code",
   "execution_count": 24,
   "metadata": {},
   "outputs": [
    {
     "data": {
      "text/plain": [
       "0.16429139248593794"
      ]
     },
     "execution_count": 24,
     "metadata": {},
     "output_type": "execute_result"
    }
   ],
   "source": [
    "r2 = r2_score(res_train,y_tr[0])\n",
    "r2"
   ]
  },
  {
   "cell_type": "code",
   "execution_count": 22,
   "metadata": {},
   "outputs": [
    {
     "data": {
      "text/plain": [
       "1.364785449136733"
      ]
     },
     "execution_count": 22,
     "metadata": {},
     "output_type": "execute_result"
    }
   ],
   "source": [
    "mae = mean_absolute_error(res_train, y_tr[0])\n",
    "mae"
   ]
  },
  {
   "cell_type": "code",
   "execution_count": 23,
   "metadata": {},
   "outputs": [
    {
     "data": {
      "text/plain": [
       "KendalltauResult(correlation=0.26845595610803163, pvalue=0.0)"
      ]
     },
     "execution_count": 23,
     "metadata": {},
     "output_type": "execute_result"
    }
   ],
   "source": [
    "kt = kendalltau(res_train, y_tr[0])\n",
    "kt"
   ]
  },
  {
   "cell_type": "code",
   "execution_count": 1,
   "metadata": {},
   "outputs": [
    {
     "ename": "NameError",
     "evalue": "name 'svmutil' is not defined",
     "output_type": "error",
     "traceback": [
      "\u001b[0;31m---------------------------------------------------------------------------\u001b[0m",
      "\u001b[0;31mNameError\u001b[0m                                 Traceback (most recent call last)",
      "\u001b[0;32m<ipython-input-1-6d02c46de0c9>\u001b[0m in \u001b[0;36m<module>\u001b[0;34m()\u001b[0m\n\u001b[0;32m----> 1\u001b[0;31m \u001b[0mmodel_svm_reg\u001b[0m \u001b[0;34m=\u001b[0m \u001b[0msvmutil\u001b[0m\u001b[0;34m.\u001b[0m\u001b[0msvm_train\u001b[0m\u001b[0;34m(\u001b[0m\u001b[0mres_train\u001b[0m\u001b[0;34m+\u001b[0m\u001b[0mres_test\u001b[0m\u001b[0;34m,\u001b[0m \u001b[0mtrain\u001b[0m\u001b[0;34m+\u001b[0m\u001b[0mtest\u001b[0m\u001b[0;34m,\u001b[0m\u001b[0;34m'-s 4 -v 10 -t 2 -c 2'\u001b[0m\u001b[0;34m)\u001b[0m\u001b[0;34m\u001b[0m\u001b[0;34m\u001b[0m\u001b[0m\n\u001b[0m",
      "\u001b[0;31mNameError\u001b[0m: name 'svmutil' is not defined"
     ]
    }
   ],
   "source": [
    "model_svm_reg = svmutil.svm_train(res_train+res_test, train+test,'-s 4 -v 10 -t 2 -c 2')"
   ]
  },
  {
   "cell_type": "code",
   "execution_count": null,
   "metadata": {},
   "outputs": [],
   "source": []
  }
 ],
 "metadata": {
  "kernelspec": {
   "display_name": "Python 3",
   "language": "python",
   "name": "python3"
  },
  "language_info": {
   "codemirror_mode": {
    "name": "ipython",
    "version": 3
   },
   "file_extension": ".py",
   "mimetype": "text/x-python",
   "name": "python",
   "nbconvert_exporter": "python",
   "pygments_lexer": "ipython3",
   "version": "3.7.6"
  }
 },
 "nbformat": 4,
 "nbformat_minor": 4
}
