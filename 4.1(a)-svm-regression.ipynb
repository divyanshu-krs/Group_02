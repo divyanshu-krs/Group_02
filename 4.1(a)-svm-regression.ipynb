{
 "cells": [
  {
   "cell_type": "code",
   "execution_count": 70,
   "metadata": {},
   "outputs": [],
   "source": [
    "import pandas as pd\n",
    "from gensim.models import FastText\n",
    "import re\n",
    "import numpy as np\n",
    "from libsvm import svmutil\n",
    "import libsvm"
   ]
  },
  {
   "cell_type": "code",
   "execution_count": 71,
   "metadata": {},
   "outputs": [
    {
     "data": {
      "text/html": [
       "<div>\n",
       "<style scoped>\n",
       "    .dataframe tbody tr th:only-of-type {\n",
       "        vertical-align: middle;\n",
       "    }\n",
       "\n",
       "    .dataframe tbody tr th {\n",
       "        vertical-align: top;\n",
       "    }\n",
       "\n",
       "    .dataframe thead th {\n",
       "        text-align: right;\n",
       "    }\n",
       "</style>\n",
       "<table border=\"1\" class=\"dataframe\">\n",
       "  <thead>\n",
       "    <tr style=\"text-align: right;\">\n",
       "      <th></th>\n",
       "      <th>id</th>\n",
       "      <th>Page</th>\n",
       "      <th>Date</th>\n",
       "      <th>Time</th>\n",
       "      <th>Like Count</th>\n",
       "      <th>Comment Count</th>\n",
       "      <th>Share Count</th>\n",
       "      <th>Category</th>\n",
       "      <th>Crime_flag</th>\n",
       "      <th>Feed_Img</th>\n",
       "      <th>Headline</th>\n",
       "      <th>Summary</th>\n",
       "      <th>Publish Timestamp</th>\n",
       "      <th>Post Message</th>\n",
       "      <th>Post Description</th>\n",
       "      <th>Post Link</th>\n",
       "      <th>Post Type</th>\n",
       "      <th>Post Img</th>\n",
       "      <th>Status Type</th>\n",
       "    </tr>\n",
       "  </thead>\n",
       "  <tbody>\n",
       "    <tr>\n",
       "      <th>0</th>\n",
       "      <td>1</td>\n",
       "      <td>The Straits Times</td>\n",
       "      <td>01-01-2018 00:28:04</td>\n",
       "      <td>2</td>\n",
       "      <td>770</td>\n",
       "      <td>46</td>\n",
       "      <td>153</td>\n",
       "      <td>Main</td>\n",
       "      <td>0</td>\n",
       "      <td>0</td>\n",
       "      <td>Six-minute display of fireworks</td>\n",
       "      <td>What better way to usher in 2018 than with a f...</td>\n",
       "      <td>01-01-2018 00:28:04</td>\n",
       "      <td>What better way to usher in 2018 than with a f...</td>\n",
       "      <td>-</td>\n",
       "      <td>https://www.facebook.com/TheStraitsTimes/video...</td>\n",
       "      <td>video</td>\n",
       "      <td>0</td>\n",
       "      <td>added_video</td>\n",
       "    </tr>\n",
       "    <tr>\n",
       "      <th>1</th>\n",
       "      <td>2</td>\n",
       "      <td>The Straits Times</td>\n",
       "      <td>01-01-2018 02:05:27</td>\n",
       "      <td>5</td>\n",
       "      <td>294</td>\n",
       "      <td>30</td>\n",
       "      <td>218</td>\n",
       "      <td>Main</td>\n",
       "      <td>1</td>\n",
       "      <td>1</td>\n",
       "      <td>Singaporean man killed in motorcycle accident ...</td>\n",
       "      <td>SINGAPORE - A pair of Singaporeans believed to...</td>\n",
       "      <td>01-01-2018 01:33:52</td>\n",
       "      <td>The accident occurred near Thailand's southern...</td>\n",
       "      <td>SINGAPORE - A pair of Singaporeans believed to...</td>\n",
       "      <td>http://www.straitstimes.com/singapore/singapor...</td>\n",
       "      <td>link</td>\n",
       "      <td>0</td>\n",
       "      <td>shared_story</td>\n",
       "    </tr>\n",
       "    <tr>\n",
       "      <th>2</th>\n",
       "      <td>3</td>\n",
       "      <td>The Straits Times</td>\n",
       "      <td>01-01-2018 04:04:20</td>\n",
       "      <td>9</td>\n",
       "      <td>23</td>\n",
       "      <td>2</td>\n",
       "      <td>6</td>\n",
       "      <td>Asia</td>\n",
       "      <td>0</td>\n",
       "      <td>1</td>\n",
       "      <td>Hundreds of Indonesian couples ring in the new...</td>\n",
       "      <td>JAKARTA (REUTERS) - Hundreds of Indonesian cou...</td>\n",
       "      <td>01-01-2018 00:02:23</td>\n",
       "      <td>Nearly 450 couples gathered in a large tent in...</td>\n",
       "      <td>JAKARTA (REUTERS) - Hundreds of Indonesian cou...</td>\n",
       "      <td>http://www.straitstimes.com/asia/se-asia/hundr...</td>\n",
       "      <td>link</td>\n",
       "      <td>0</td>\n",
       "      <td>shared_story</td>\n",
       "    </tr>\n",
       "    <tr>\n",
       "      <th>3</th>\n",
       "      <td>4</td>\n",
       "      <td>The Straits Times</td>\n",
       "      <td>01-01-2018 04:05:45</td>\n",
       "      <td>9</td>\n",
       "      <td>27</td>\n",
       "      <td>13</td>\n",
       "      <td>1</td>\n",
       "      <td>Sport</td>\n",
       "      <td>0</td>\n",
       "      <td>1</td>\n",
       "      <td>Football: Pogba urges misfiring Man United to ...</td>\n",
       "      <td>LONDON (AFP) - Paul Pogba has called on Manche...</td>\n",
       "      <td>31-12-2017 23:03:53</td>\n",
       "      <td>'We drew again. Three draws, we have to win, s...</td>\n",
       "      <td>LONDON (AFP) - Paul Pogba has called on Manche...</td>\n",
       "      <td>http://www.straitstimes.com/sport/football/foo...</td>\n",
       "      <td>link</td>\n",
       "      <td>0</td>\n",
       "      <td>shared_story</td>\n",
       "    </tr>\n",
       "    <tr>\n",
       "      <th>4</th>\n",
       "      <td>5</td>\n",
       "      <td>The Straits Times</td>\n",
       "      <td>01-01-2018 04:07:02</td>\n",
       "      <td>9</td>\n",
       "      <td>26</td>\n",
       "      <td>5</td>\n",
       "      <td>4</td>\n",
       "      <td>Sport</td>\n",
       "      <td>0</td>\n",
       "      <td>1</td>\n",
       "      <td>Football: Nike advertises Coutinho Barcelona s...</td>\n",
       "      <td>PARIS (AFP) - An apparent gaffe by Nike has fi...</td>\n",
       "      <td>31-12-2017 23:48:51</td>\n",
       "      <td>Headlined 'Where the magic happens', the page,...</td>\n",
       "      <td>PARIS (AFP) - An apparent gaffe by Nike has fi...</td>\n",
       "      <td>http://www.straitstimes.com/sport/football/foo...</td>\n",
       "      <td>link</td>\n",
       "      <td>0</td>\n",
       "      <td>shared_story</td>\n",
       "    </tr>\n",
       "  </tbody>\n",
       "</table>\n",
       "</div>"
      ],
      "text/plain": [
       "   id               Page                 Date  Time  Like Count  \\\n",
       "0   1  The Straits Times  01-01-2018 00:28:04     2         770   \n",
       "1   2  The Straits Times  01-01-2018 02:05:27     5         294   \n",
       "2   3  The Straits Times  01-01-2018 04:04:20     9          23   \n",
       "3   4  The Straits Times  01-01-2018 04:05:45     9          27   \n",
       "4   5  The Straits Times  01-01-2018 04:07:02     9          26   \n",
       "\n",
       "   Comment Count  Share Count Category Crime_flag Feed_Img  \\\n",
       "0             46          153     Main          0        0   \n",
       "1             30          218     Main          1        1   \n",
       "2              2            6     Asia          0        1   \n",
       "3             13            1    Sport          0        1   \n",
       "4              5            4    Sport          0        1   \n",
       "\n",
       "                                            Headline  \\\n",
       "0                    Six-minute display of fireworks   \n",
       "1  Singaporean man killed in motorcycle accident ...   \n",
       "2  Hundreds of Indonesian couples ring in the new...   \n",
       "3  Football: Pogba urges misfiring Man United to ...   \n",
       "4  Football: Nike advertises Coutinho Barcelona s...   \n",
       "\n",
       "                                             Summary    Publish Timestamp  \\\n",
       "0  What better way to usher in 2018 than with a f...  01-01-2018 00:28:04   \n",
       "1  SINGAPORE - A pair of Singaporeans believed to...  01-01-2018 01:33:52   \n",
       "2  JAKARTA (REUTERS) - Hundreds of Indonesian cou...  01-01-2018 00:02:23   \n",
       "3  LONDON (AFP) - Paul Pogba has called on Manche...  31-12-2017 23:03:53   \n",
       "4  PARIS (AFP) - An apparent gaffe by Nike has fi...  31-12-2017 23:48:51   \n",
       "\n",
       "                                        Post Message  \\\n",
       "0  What better way to usher in 2018 than with a f...   \n",
       "1  The accident occurred near Thailand's southern...   \n",
       "2  Nearly 450 couples gathered in a large tent in...   \n",
       "3  'We drew again. Three draws, we have to win, s...   \n",
       "4  Headlined 'Where the magic happens', the page,...   \n",
       "\n",
       "                                    Post Description  \\\n",
       "0                                                  -   \n",
       "1  SINGAPORE - A pair of Singaporeans believed to...   \n",
       "2  JAKARTA (REUTERS) - Hundreds of Indonesian cou...   \n",
       "3  LONDON (AFP) - Paul Pogba has called on Manche...   \n",
       "4  PARIS (AFP) - An apparent gaffe by Nike has fi...   \n",
       "\n",
       "                                           Post Link Post Type  Post Img  \\\n",
       "0  https://www.facebook.com/TheStraitsTimes/video...     video         0   \n",
       "1  http://www.straitstimes.com/singapore/singapor...      link         0   \n",
       "2  http://www.straitstimes.com/asia/se-asia/hundr...      link         0   \n",
       "3  http://www.straitstimes.com/sport/football/foo...      link         0   \n",
       "4  http://www.straitstimes.com/sport/football/foo...      link         0   \n",
       "\n",
       "    Status Type  \n",
       "0   added_video  \n",
       "1  shared_story  \n",
       "2  shared_story  \n",
       "3  shared_story  \n",
       "4  shared_story  "
      ]
     },
     "execution_count": 71,
     "metadata": {},
     "output_type": "execute_result"
    }
   ],
   "source": [
    "data = pd.read_excel(\"NewsHeadlines_01012019_30092019.xlsx\")\n",
    "# ls = [1 if i < 4761 else 0 for i in range(47611)]\n",
    "# index = data[\"Like Count\"].tolist()\n",
    "data[\"Category\"].replace({\"Tech\": \"Technology\",\"-\":\"Uncategorized\", \"Sports\":\"Sport\"}, inplace=True)\n",
    "data.head()"
   ]
  },
  {
   "cell_type": "code",
   "execution_count": 4,
   "metadata": {},
   "outputs": [],
   "source": [
    "train_df = data[\"Summary\"]"
   ]
  },
  {
   "cell_type": "code",
   "execution_count": 7,
   "metadata": {},
   "outputs": [],
   "source": [
    "train_df = train_df.values.tolist()"
   ]
  },
  {
   "cell_type": "code",
   "execution_count": 14,
   "metadata": {},
   "outputs": [],
   "source": [
    "summary = []\n",
    "for sent_str in train_df:\n",
    "#     sent_str = re.sub(r\"'\", \"\", str(sent_str).lower())\n",
    "    tokens = re.sub(r\"[^a-z0-9]+\", \" \", str(sent_str).lower()).split()\n",
    "    summary.append(tokens)\n",
    "summary"
   ]
  },
  {
   "cell_type": "code",
   "execution_count": 3,
   "metadata": {},
   "outputs": [
    {
     "ename": "NameError",
     "evalue": "name 'summary' is not defined",
     "output_type": "error",
     "traceback": [
      "\u001b[0;31m---------------------------------------------------------------------------\u001b[0m",
      "\u001b[0;31mNameError\u001b[0m                                 Traceback (most recent call last)",
      "\u001b[0;32m<ipython-input-3-4243d795177e>\u001b[0m in \u001b[0;36m<module>\u001b[0;34m()\u001b[0m\n\u001b[0;32m----> 1\u001b[0;31m \u001b[0mmodel_summary\u001b[0m \u001b[0;34m=\u001b[0m \u001b[0mFastText\u001b[0m\u001b[0;34m(\u001b[0m\u001b[0msummary\u001b[0m \u001b[0;34m,\u001b[0m \u001b[0msize\u001b[0m\u001b[0;34m=\u001b[0m\u001b[0;36m100\u001b[0m\u001b[0;34m,\u001b[0m \u001b[0mwindow\u001b[0m\u001b[0;34m=\u001b[0m\u001b[0;36m5\u001b[0m\u001b[0;34m,\u001b[0m \u001b[0mmin_count\u001b[0m\u001b[0;34m=\u001b[0m\u001b[0;36m5\u001b[0m\u001b[0;34m,\u001b[0m \u001b[0mworkers\u001b[0m\u001b[0;34m=\u001b[0m\u001b[0;36m4\u001b[0m\u001b[0;34m,\u001b[0m\u001b[0msg\u001b[0m\u001b[0;34m=\u001b[0m\u001b[0;36m1\u001b[0m\u001b[0;34m)\u001b[0m\u001b[0;34m\u001b[0m\u001b[0;34m\u001b[0m\u001b[0m\n\u001b[0m",
      "\u001b[0;31mNameError\u001b[0m: name 'summary' is not defined"
     ]
    }
   ],
   "source": [
    "model_summary = FastText(summary , size=100, window=5, min_count=5, workers=4,sg=1)"
   ]
  },
  {
   "cell_type": "code",
   "execution_count": 20,
   "metadata": {},
   "outputs": [],
   "source": [
    "model_summary.wv.most_similar(\"indian\")"
   ]
  },
  {
   "cell_type": "code",
   "execution_count": 4,
   "metadata": {},
   "outputs": [],
   "source": [
    "# model_summary.save(\"model_summary.bin\")\n",
    "model_summary = FastText.load(\"model_summary.bin\")"
   ]
  },
  {
   "cell_type": "code",
   "execution_count": 72,
   "metadata": {},
   "outputs": [],
   "source": [
    "category = set(data[\"Category\"].values.tolist())"
   ]
  },
  {
   "cell_type": "code",
   "execution_count": 73,
   "metadata": {
    "scrolled": true
   },
   "outputs": [
    {
     "data": {
      "text/plain": [
       "{'1819-C',\n",
       " 'AHTC',\n",
       " 'Abroad',\n",
       " 'Abroad-C',\n",
       " 'Almost Famous',\n",
       " 'Anyhowly Driving',\n",
       " 'Art',\n",
       " 'Asia',\n",
       " 'Asia Pacific',\n",
       " 'Business',\n",
       " 'CNA Insider',\n",
       " 'Celebrity',\n",
       " 'Commentary',\n",
       " 'Community',\n",
       " 'Culture',\n",
       " 'Drama',\n",
       " 'Entertainment',\n",
       " 'Events',\n",
       " 'Fake News',\n",
       " 'Health',\n",
       " 'Heartwarming',\n",
       " 'History',\n",
       " 'Interviews',\n",
       " 'LifeStyle',\n",
       " 'Lifestyle',\n",
       " 'Main',\n",
       " 'News',\n",
       " 'Offbeat',\n",
       " 'Parliament',\n",
       " 'Personal Finance',\n",
       " 'Perspectives',\n",
       " 'Singapore',\n",
       " 'Singapore Angst',\n",
       " 'Singapore Budget 2018',\n",
       " 'Singapore Parliament',\n",
       " 'Social Media Fail',\n",
       " 'Sponsored Content',\n",
       " 'Sport',\n",
       " 'Technology',\n",
       " 'Things To Do',\n",
       " 'Trending',\n",
       " 'Uncategorized',\n",
       " 'Weird AF',\n",
       " 'World'}"
      ]
     },
     "execution_count": 73,
     "metadata": {},
     "output_type": "execute_result"
    }
   ],
   "source": [
    "category"
   ]
  },
  {
   "cell_type": "code",
   "execution_count": 74,
   "metadata": {},
   "outputs": [],
   "source": [
    "headlines= []\n",
    "for sent_str in data[\"Headline\"]:\n",
    "#     sent_str = re.sub(r\"'\", \"\", str(sent_str).lower())\n",
    "    tokens = re.sub(r\"[^a-z0-9]+\", \" \", str(sent_str).lower()).split()\n",
    "    if(tokens == []):\n",
    "        tokens = \"nan\"\n",
    "    headlines.append(tokens)"
   ]
  },
  {
   "cell_type": "code",
   "execution_count": 75,
   "metadata": {},
   "outputs": [
    {
     "name": "stderr",
     "output_type": "stream",
     "text": [
      "/home/prachi/anaconda3/envs/ml/lib/python3.7/site-packages/ipykernel_launcher.py:3: DeprecationWarning: Call to deprecated `__getitem__` (Method will be removed in 4.0.0, use self.wv.__getitem__() instead).\n",
      "  This is separate from the ipykernel package so we can avoid doing imports until\n"
     ]
    }
   ],
   "source": [
    "cat_vec = {}\n",
    "for c in category:\n",
    "    cat_vec[c] = model_summary[c]"
   ]
  },
  {
   "cell_type": "code",
   "execution_count": 76,
   "metadata": {},
   "outputs": [
    {
     "name": "stderr",
     "output_type": "stream",
     "text": [
      "/home/prachi/anaconda3/envs/ml/lib/python3.7/site-packages/ipykernel_launcher.py:6: DeprecationWarning: Call to deprecated `__getitem__` (Method will be removed in 4.0.0, use self.wv.__getitem__() instead).\n",
      "  \n"
     ]
    }
   ],
   "source": [
    "head_vec = []\n",
    "n = len(headlines)\n",
    "for h in range(n):\n",
    "    sum1 = np.array([0.0 for i in range(100)])\n",
    "    for tok in headlines[h]:\n",
    "        sum1+=model_summary[tok]\n",
    "#     print(sum1)\n",
    "    sum1 = sum1/len(headlines[h])\n",
    "#     print(sum1)\n",
    "    sum1 = np.concatenate((sum1,cat_vec[data[\"Category\"][h]]))\n",
    "    head_vec.append(sum1)\n"
   ]
  },
  {
   "cell_type": "code",
   "execution_count": 10,
   "metadata": {},
   "outputs": [],
   "source": [
    "# head_vec[0]"
   ]
  },
  {
   "cell_type": "code",
   "execution_count": 11,
   "metadata": {},
   "outputs": [],
   "source": [
    "#  head_vec[:4261]"
   ]
  },
  {
   "cell_type": "code",
   "execution_count": 36,
   "metadata": {
    "scrolled": true
   },
   "outputs": [
    {
     "name": "stdout",
     "output_type": "stream",
     "text": [
      "Help on module libsvm.svmutil in libsvm:\n",
      "\n",
      "NAME\n",
      "    libsvm.svmutil\n",
      "\n",
      "CLASSES\n",
      "    _ctypes.PyCFuncPtr(_ctypes._CData)\n",
      "        ctypes.CFunctionType\n",
      "    _ctypes.Structure(_ctypes._CData)\n",
      "        svm.svm_model\n",
      "        svm.svm_node\n",
      "        svm.svm_parameter\n",
      "        svm.svm_problem\n",
      "    _ctypes._SimpleCData(_ctypes._CData)\n",
      "        ctypes.c_double\n",
      "    \n",
      "    PRINT_STRING_FUN = class CFunctionType(_ctypes.PyCFuncPtr)\n",
      "     |  Function Pointer\n",
      "     |  \n",
      "     |  Method resolution order:\n",
      "     |      CFunctionType\n",
      "     |      _ctypes.PyCFuncPtr\n",
      "     |      _ctypes._CData\n",
      "     |      builtins.object\n",
      "     |  \n",
      "     |  Data descriptors defined here:\n",
      "     |  \n",
      "     |  __dict__\n",
      "     |      dictionary for instance variables (if defined)\n",
      "     |  \n",
      "     |  __weakref__\n",
      "     |      list of weak references to the object (if defined)\n",
      "     |  \n",
      "     |  ----------------------------------------------------------------------\n",
      "     |  Methods inherited from _ctypes.PyCFuncPtr:\n",
      "     |  \n",
      "     |  __bool__(self, /)\n",
      "     |      self != 0\n",
      "     |  \n",
      "     |  __call__(self, /, *args, **kwargs)\n",
      "     |      Call self as a function.\n",
      "     |  \n",
      "     |  __repr__(self, /)\n",
      "     |      Return repr(self).\n",
      "     |  \n",
      "     |  ----------------------------------------------------------------------\n",
      "     |  Static methods inherited from _ctypes.PyCFuncPtr:\n",
      "     |  \n",
      "     |  __new__(*args, **kwargs) from _ctypes.PyCFuncPtrType\n",
      "     |      Create and return a new object.  See help(type) for accurate signature.\n",
      "     |  \n",
      "     |  ----------------------------------------------------------------------\n",
      "     |  Data descriptors inherited from _ctypes.PyCFuncPtr:\n",
      "     |  \n",
      "     |  argtypes\n",
      "     |      specify the argument types\n",
      "     |  \n",
      "     |  errcheck\n",
      "     |      a function to check for errors\n",
      "     |  \n",
      "     |  restype\n",
      "     |      specify the result type\n",
      "     |  \n",
      "     |  ----------------------------------------------------------------------\n",
      "     |  Methods inherited from _ctypes._CData:\n",
      "     |  \n",
      "     |  __ctypes_from_outparam__(...)\n",
      "     |  \n",
      "     |  __hash__(self, /)\n",
      "     |      Return hash(self).\n",
      "     |  \n",
      "     |  __reduce__(...)\n",
      "     |      Helper for pickle.\n",
      "     |  \n",
      "     |  __setstate__(...)\n",
      "    \n",
      "    class c_double(_ctypes._SimpleCData)\n",
      "     |  XXX to be provided\n",
      "     |  \n",
      "     |  Method resolution order:\n",
      "     |      c_double\n",
      "     |      _ctypes._SimpleCData\n",
      "     |      _ctypes._CData\n",
      "     |      builtins.object\n",
      "     |  \n",
      "     |  Data descriptors defined here:\n",
      "     |  \n",
      "     |  __dict__\n",
      "     |      dictionary for instance variables (if defined)\n",
      "     |  \n",
      "     |  __weakref__\n",
      "     |      list of weak references to the object (if defined)\n",
      "     |  \n",
      "     |  ----------------------------------------------------------------------\n",
      "     |  Data and other attributes defined here:\n",
      "     |  \n",
      "     |  __ctype_be__ = <class 'ctypes.c_double'>\n",
      "     |      XXX to be provided\n",
      "     |  \n",
      "     |  __ctype_le__ = <class 'ctypes.c_double'>\n",
      "     |      XXX to be provided\n",
      "     |  \n",
      "     |  ----------------------------------------------------------------------\n",
      "     |  Methods inherited from _ctypes._SimpleCData:\n",
      "     |  \n",
      "     |  __bool__(self, /)\n",
      "     |      self != 0\n",
      "     |  \n",
      "     |  __ctypes_from_outparam__(...)\n",
      "     |  \n",
      "     |  __init__(self, /, *args, **kwargs)\n",
      "     |      Initialize self.  See help(type(self)) for accurate signature.\n",
      "     |  \n",
      "     |  __repr__(self, /)\n",
      "     |      Return repr(self).\n",
      "     |  \n",
      "     |  ----------------------------------------------------------------------\n",
      "     |  Static methods inherited from _ctypes._SimpleCData:\n",
      "     |  \n",
      "     |  __new__(*args, **kwargs) from _ctypes.PyCSimpleType\n",
      "     |      Create and return a new object.  See help(type) for accurate signature.\n",
      "     |  \n",
      "     |  ----------------------------------------------------------------------\n",
      "     |  Data descriptors inherited from _ctypes._SimpleCData:\n",
      "     |  \n",
      "     |  value\n",
      "     |      current value\n",
      "     |  \n",
      "     |  ----------------------------------------------------------------------\n",
      "     |  Methods inherited from _ctypes._CData:\n",
      "     |  \n",
      "     |  __hash__(self, /)\n",
      "     |      Return hash(self).\n",
      "     |  \n",
      "     |  __reduce__(...)\n",
      "     |      Helper for pickle.\n",
      "     |  \n",
      "     |  __setstate__(...)\n",
      "    \n",
      "    class svm_model(_ctypes.Structure)\n",
      "     |  Structure base class\n",
      "     |  \n",
      "     |  Method resolution order:\n",
      "     |      svm_model\n",
      "     |      _ctypes.Structure\n",
      "     |      _ctypes._CData\n",
      "     |      builtins.object\n",
      "     |  \n",
      "     |  Methods defined here:\n",
      "     |  \n",
      "     |  __del__(self)\n",
      "     |  \n",
      "     |  __init__(self)\n",
      "     |      Initialize self.  See help(type(self)) for accurate signature.\n",
      "     |  \n",
      "     |  get_SV(self)\n",
      "     |  \n",
      "     |  get_labels(self)\n",
      "     |  \n",
      "     |  get_nr_class(self)\n",
      "     |  \n",
      "     |  get_nr_sv(self)\n",
      "     |  \n",
      "     |  get_sv_coef(self)\n",
      "     |  \n",
      "     |  get_sv_indices(self)\n",
      "     |  \n",
      "     |  get_svm_type(self)\n",
      "     |  \n",
      "     |  get_svr_probability(self)\n",
      "     |  \n",
      "     |  is_probability_model(self)\n",
      "     |  \n",
      "     |  ----------------------------------------------------------------------\n",
      "     |  Data descriptors defined here:\n",
      "     |  \n",
      "     |  SV\n",
      "     |      Structure/Union member\n",
      "     |  \n",
      "     |  __dict__\n",
      "     |      dictionary for instance variables (if defined)\n",
      "     |  \n",
      "     |  __weakref__\n",
      "     |      list of weak references to the object (if defined)\n",
      "     |  \n",
      "     |  free_sv\n",
      "     |      Structure/Union member\n",
      "     |  \n",
      "     |  l\n",
      "     |      Structure/Union member\n",
      "     |  \n",
      "     |  label\n",
      "     |      Structure/Union member\n",
      "     |  \n",
      "     |  nSV\n",
      "     |      Structure/Union member\n",
      "     |  \n",
      "     |  nr_class\n",
      "     |      Structure/Union member\n",
      "     |  \n",
      "     |  param\n",
      "     |      Structure/Union member\n",
      "     |  \n",
      "     |  probA\n",
      "     |      Structure/Union member\n",
      "     |  \n",
      "     |  probB\n",
      "     |      Structure/Union member\n",
      "     |  \n",
      "     |  rho\n",
      "     |      Structure/Union member\n",
      "     |  \n",
      "     |  sv_coef\n",
      "     |      Structure/Union member\n",
      "     |  \n",
      "     |  sv_indices\n",
      "     |      Structure/Union member\n",
      "     |  \n",
      "     |  ----------------------------------------------------------------------\n",
      "     |  Static methods inherited from _ctypes.Structure:\n",
      "     |  \n",
      "     |  __new__(*args, **kwargs) from _ctypes.PyCStructType\n",
      "     |      Create and return a new object.  See help(type) for accurate signature.\n",
      "     |  \n",
      "     |  ----------------------------------------------------------------------\n",
      "     |  Methods inherited from _ctypes._CData:\n",
      "     |  \n",
      "     |  __ctypes_from_outparam__(...)\n",
      "     |  \n",
      "     |  __hash__(self, /)\n",
      "     |      Return hash(self).\n",
      "     |  \n",
      "     |  __reduce__(...)\n",
      "     |      Helper for pickle.\n",
      "     |  \n",
      "     |  __setstate__(...)\n",
      "    \n",
      "    class svm_node(_ctypes.Structure)\n",
      "     |  svm_node(index=-1, value=0)\n",
      "     |  \n",
      "     |  Structure base class\n",
      "     |  \n",
      "     |  Method resolution order:\n",
      "     |      svm_node\n",
      "     |      _ctypes.Structure\n",
      "     |      _ctypes._CData\n",
      "     |      builtins.object\n",
      "     |  \n",
      "     |  Methods defined here:\n",
      "     |  \n",
      "     |  __init__(self, index=-1, value=0)\n",
      "     |      Initialize self.  See help(type(self)) for accurate signature.\n",
      "     |  \n",
      "     |  __str__(self)\n",
      "     |      Return str(self).\n",
      "     |  \n",
      "     |  ----------------------------------------------------------------------\n",
      "     |  Data descriptors defined here:\n",
      "     |  \n",
      "     |  __dict__\n",
      "     |      dictionary for instance variables (if defined)\n",
      "     |  \n",
      "     |  __weakref__\n",
      "     |      list of weak references to the object (if defined)\n",
      "     |  \n",
      "     |  index\n",
      "     |      Structure/Union member\n",
      "     |  \n",
      "     |  value\n",
      "     |      Structure/Union member\n",
      "     |  \n",
      "     |  ----------------------------------------------------------------------\n",
      "     |  Static methods inherited from _ctypes.Structure:\n",
      "     |  \n",
      "     |  __new__(*args, **kwargs) from _ctypes.PyCStructType\n",
      "     |      Create and return a new object.  See help(type) for accurate signature.\n",
      "     |  \n",
      "     |  ----------------------------------------------------------------------\n",
      "     |  Methods inherited from _ctypes._CData:\n",
      "     |  \n",
      "     |  __ctypes_from_outparam__(...)\n",
      "     |  \n",
      "     |  __hash__(self, /)\n",
      "     |      Return hash(self).\n",
      "     |  \n",
      "     |  __reduce__(...)\n",
      "     |      Helper for pickle.\n",
      "     |  \n",
      "     |  __setstate__(...)\n",
      "    \n",
      "    class svm_parameter(_ctypes.Structure)\n",
      "     |  svm_parameter(options=None)\n",
      "     |  \n",
      "     |  Structure base class\n",
      "     |  \n",
      "     |  Method resolution order:\n",
      "     |      svm_parameter\n",
      "     |      _ctypes.Structure\n",
      "     |      _ctypes._CData\n",
      "     |      builtins.object\n",
      "     |  \n",
      "     |  Methods defined here:\n",
      "     |  \n",
      "     |  __init__(self, options=None)\n",
      "     |      Initialize self.  See help(type(self)) for accurate signature.\n",
      "     |  \n",
      "     |  __str__(self)\n",
      "     |      Return str(self).\n",
      "     |  \n",
      "     |  parse_options(self, options)\n",
      "     |  \n",
      "     |  set_to_default_values(self)\n",
      "     |  \n",
      "     |  ----------------------------------------------------------------------\n",
      "     |  Data descriptors defined here:\n",
      "     |  \n",
      "     |  C\n",
      "     |      Structure/Union member\n",
      "     |  \n",
      "     |  __dict__\n",
      "     |      dictionary for instance variables (if defined)\n",
      "     |  \n",
      "     |  __weakref__\n",
      "     |      list of weak references to the object (if defined)\n",
      "     |  \n",
      "     |  cache_size\n",
      "     |      Structure/Union member\n",
      "     |  \n",
      "     |  coef0\n",
      "     |      Structure/Union member\n",
      "     |  \n",
      "     |  degree\n",
      "     |      Structure/Union member\n",
      "     |  \n",
      "     |  eps\n",
      "     |      Structure/Union member\n",
      "     |  \n",
      "     |  gamma\n",
      "     |      Structure/Union member\n",
      "     |  \n",
      "     |  kernel_type\n",
      "     |      Structure/Union member\n",
      "     |  \n",
      "     |  nr_weight\n",
      "     |      Structure/Union member\n",
      "     |  \n",
      "     |  nu\n",
      "     |      Structure/Union member\n",
      "     |  \n",
      "     |  p\n",
      "     |      Structure/Union member\n",
      "     |  \n",
      "     |  probability\n",
      "     |      Structure/Union member\n",
      "     |  \n",
      "     |  shrinking\n",
      "     |      Structure/Union member\n",
      "     |  \n",
      "     |  svm_type\n",
      "     |      Structure/Union member\n",
      "     |  \n",
      "     |  weight\n",
      "     |      Structure/Union member\n",
      "     |  \n",
      "     |  weight_label\n",
      "     |      Structure/Union member\n",
      "     |  \n",
      "     |  ----------------------------------------------------------------------\n",
      "     |  Static methods inherited from _ctypes.Structure:\n",
      "     |  \n",
      "     |  __new__(*args, **kwargs) from _ctypes.PyCStructType\n",
      "     |      Create and return a new object.  See help(type) for accurate signature.\n",
      "     |  \n",
      "     |  ----------------------------------------------------------------------\n",
      "     |  Methods inherited from _ctypes._CData:\n",
      "     |  \n",
      "     |  __ctypes_from_outparam__(...)\n",
      "     |  \n",
      "     |  __hash__(self, /)\n",
      "     |      Return hash(self).\n",
      "     |  \n",
      "     |  __reduce__(...)\n",
      "     |      Helper for pickle.\n",
      "     |  \n",
      "     |  __setstate__(...)\n",
      "    \n",
      "    class svm_problem(_ctypes.Structure)\n",
      "     |  svm_problem(y, x, isKernel=False)\n",
      "     |  \n",
      "     |  Structure base class\n",
      "     |  \n",
      "     |  Method resolution order:\n",
      "     |      svm_problem\n",
      "     |      _ctypes.Structure\n",
      "     |      _ctypes._CData\n",
      "     |      builtins.object\n",
      "     |  \n",
      "     |  Methods defined here:\n",
      "     |  \n",
      "     |  __init__(self, y, x, isKernel=False)\n",
      "     |      Initialize self.  See help(type(self)) for accurate signature.\n",
      "     |  \n",
      "     |  ----------------------------------------------------------------------\n",
      "     |  Data descriptors defined here:\n",
      "     |  \n",
      "     |  __dict__\n",
      "     |      dictionary for instance variables (if defined)\n",
      "     |  \n",
      "     |  __weakref__\n",
      "     |      list of weak references to the object (if defined)\n",
      "     |  \n",
      "     |  l\n",
      "     |      Structure/Union member\n",
      "     |  \n",
      "     |  x\n",
      "     |      Structure/Union member\n",
      "     |  \n",
      "     |  y\n",
      "     |      Structure/Union member\n",
      "     |  \n",
      "     |  ----------------------------------------------------------------------\n",
      "     |  Static methods inherited from _ctypes.Structure:\n",
      "     |  \n",
      "     |  __new__(*args, **kwargs) from _ctypes.PyCStructType\n",
      "     |      Create and return a new object.  See help(type) for accurate signature.\n",
      "     |  \n",
      "     |  ----------------------------------------------------------------------\n",
      "     |  Methods inherited from _ctypes._CData:\n",
      "     |  \n",
      "     |  __ctypes_from_outparam__(...)\n",
      "     |  \n",
      "     |  __hash__(self, /)\n",
      "     |      Return hash(self).\n",
      "     |  \n",
      "     |  __reduce__(...)\n",
      "     |      Helper for pickle.\n",
      "     |  \n",
      "     |  __setstate__(...)\n",
      "\n",
      "FUNCTIONS\n",
      "    csr_find_scale_param(x, lower=-1, upper=1)\n",
      "    \n",
      "    csr_scale(x, scale_param)\n",
      "    \n",
      "    evaluations(ty, pv, useScipy=True)\n",
      "        evaluations(ty, pv, useScipy) -> (ACC, MSE, SCC)\n",
      "        ty, pv: list, tuple or ndarray\n",
      "        useScipy: convert ty, pv to ndarray, and use scipy functions for the evaluation\n",
      "        \n",
      "        Calculate accuracy, mean squared error and squared correlation coefficient\n",
      "        using the true values (ty) and predicted values (pv).\n",
      "    \n",
      "    gen_svm_nodearray(xi, feature_max=None, isKernel=False)\n",
      "    \n",
      "    print_null(s)\n",
      "    \n",
      "    svm_load_model(model_file_name)\n",
      "        svm_load_model(model_file_name) -> model\n",
      "        \n",
      "        Load a LIBSVM model from model_file_name and return.\n",
      "    \n",
      "    svm_predict(y, x, m, options='')\n",
      "        svm_predict(y, x, m [, options]) -> (p_labels, p_acc, p_vals)\n",
      "        \n",
      "        y: a list/tuple/ndarray of l true labels (type must be int/double).\n",
      "           It is used for calculating the accuracy. Use [] if true labels are\n",
      "           unavailable.\n",
      "        \n",
      "        x: 1. a list/tuple of l training instances. Feature vector of\n",
      "              each training instance is a list/tuple or dictionary.\n",
      "        \n",
      "           2. an l * n numpy ndarray or scipy spmatrix (n: number of features).\n",
      "        \n",
      "        Predict data (y, x) with the SVM model m.\n",
      "        options:\n",
      "            -b probability_estimates: whether to predict probability estimates,\n",
      "                0 or 1 (default 0); for one-class SVM only 0 is supported.\n",
      "            -q : quiet mode (no outputs).\n",
      "        \n",
      "        The return tuple contains\n",
      "        p_labels: a list of predicted labels\n",
      "        p_acc: a tuple including  accuracy (for classification), mean-squared\n",
      "               error, and squared correlation coefficient (for regression).\n",
      "        p_vals: a list of decision values or probability estimates (if '-b 1'\n",
      "                is specified). If k is the number of classes, for decision values,\n",
      "                each element includes results of predicting k(k-1)/2 binary-class\n",
      "                SVMs. For probabilities, each element contains k values indicating\n",
      "                the probability that the testing instance is in each class.\n",
      "                Note that the order of classes here is the same as 'model.label'\n",
      "                field in the model structure.\n",
      "    \n",
      "    svm_read_problem(data_file_name, return_scipy=False)\n",
      "        svm_read_problem(data_file_name, return_scipy=False) -> [y, x], y: list, x: list of dictionary\n",
      "        svm_read_problem(data_file_name, return_scipy=True)  -> [y, x], y: ndarray, x: csr_matrix\n",
      "        \n",
      "        Read LIBSVM-format data from data_file_name and return labels y\n",
      "        and data instances x.\n",
      "    \n",
      "    svm_save_model(model_file_name, model)\n",
      "        svm_save_model(model_file_name, model) -> None\n",
      "        \n",
      "        Save a LIBSVM model to the file model_file_name.\n",
      "    \n",
      "    svm_train(arg1, arg2=None, arg3=None)\n",
      "        svm_train(y, x [, options]) -> model | ACC | MSE\n",
      "        \n",
      "        y: a list/tuple/ndarray of l true labels (type must be int/double).\n",
      "        \n",
      "        x: 1. a list/tuple of l training instances. Feature vector of\n",
      "              each training instance is a list/tuple or dictionary.\n",
      "        \n",
      "           2. an l * n numpy ndarray or scipy spmatrix (n: number of features).\n",
      "        \n",
      "        svm_train(prob [, options]) -> model | ACC | MSE\n",
      "        svm_train(prob, param) -> model | ACC| MSE\n",
      "        \n",
      "        Train an SVM model from data (y, x) or an svm_problem prob using\n",
      "        'options' or an svm_parameter param.\n",
      "        If '-v' is specified in 'options' (i.e., cross validation)\n",
      "        either accuracy (ACC) or mean-squared error (MSE) is returned.\n",
      "        options:\n",
      "            -s svm_type : set type of SVM (default 0)\n",
      "                0 -- C-SVC              (multi-class classification)\n",
      "                1 -- nu-SVC             (multi-class classification)\n",
      "                2 -- one-class SVM\n",
      "                3 -- epsilon-SVR        (regression)\n",
      "                4 -- nu-SVR             (regression)\n",
      "            -t kernel_type : set type of kernel function (default 2)\n",
      "                0 -- linear: u'*v\n",
      "                1 -- polynomial: (gamma*u'*v + coef0)^degree\n",
      "                2 -- radial basis function: exp(-gamma*|u-v|^2)\n",
      "                3 -- sigmoid: tanh(gamma*u'*v + coef0)\n",
      "                4 -- precomputed kernel (kernel values in training_set_file)\n",
      "            -d degree : set degree in kernel function (default 3)\n",
      "            -g gamma : set gamma in kernel function (default 1/num_features)\n",
      "            -r coef0 : set coef0 in kernel function (default 0)\n",
      "            -c cost : set the parameter C of C-SVC, epsilon-SVR, and nu-SVR (default 1)\n",
      "            -n nu : set the parameter nu of nu-SVC, one-class SVM, and nu-SVR (default 0.5)\n",
      "            -p epsilon : set the epsilon in loss function of epsilon-SVR (default 0.1)\n",
      "            -m cachesize : set cache memory size in MB (default 100)\n",
      "            -e epsilon : set tolerance of termination criterion (default 0.001)\n",
      "            -h shrinking : whether to use the shrinking heuristics, 0 or 1 (default 1)\n",
      "            -b probability_estimates : whether to train a SVC or SVR model for probability estimates, 0 or 1 (default 0)\n",
      "            -wi weight : set the parameter C of class i to weight*C, for C-SVC (default 1)\n",
      "            -v n: n-fold cross validation mode\n",
      "            -q : quiet mode (no outputs)\n",
      "    \n",
      "    toPyModel(model_ptr)\n",
      "        toPyModel(model_ptr) -> svm_model\n",
      "        \n",
      "        Convert a ctypes POINTER(svm_model) to a Python svm_model\n",
      "\n",
      "DATA\n",
      "    C_SVC = 0\n",
      "    EPSILON_SVR = 3\n",
      "    LINEAR = 0\n",
      "    NU_SVC = 1\n",
      "    NU_SVR = 4\n",
      "    ONE_CLASS = 2\n",
      "    POLY = 1\n",
      "    PRECOMPUTED = 4\n",
      "    RBF = 2\n",
      "    SIGMOID = 3\n",
      "    __all__ = ['svm_load_model', 'svm_predict', 'svm_save_model', 'svm_tra...\n",
      "    libsvm = <CDLL '/home/prachi/anaconda3/envs/ml/lib/python...on-37m-x86...\n",
      "\n",
      "FILE\n",
      "    /home/prachi/anaconda3/envs/ml/lib/python3.7/site-packages/libsvm/svmutil.py\n",
      "\n",
      "\n"
     ]
    }
   ],
   "source": [
    "help(svmutil)"
   ]
  },
  {
   "cell_type": "code",
   "execution_count": 126,
   "metadata": {},
   "outputs": [
    {
     "name": "stdout",
     "output_type": "stream",
     "text": [
      "38088 38088\n"
     ]
    }
   ],
   "source": [
    "train = head_vec[:int(0.8*(47611))]\n",
    "res_train = list(np.log2(np.array(data[\"Like Count\"][:int(0.8*47611)].tolist())+1))\n",
    "test = head_vec[int(0.8*47611):]\n",
    "res_test = list(np.log2(np.array(data[\"Like Count\"][int(0.8*47611):].tolist())+1))\n",
    "print(len(train), len(res_train))"
   ]
  },
  {
   "cell_type": "code",
   "execution_count": 149,
   "metadata": {
    "scrolled": true
   },
   "outputs": [
    {
     "name": "stdout",
     "output_type": "stream",
     "text": [
      "Cross Validation Mean squared error = 2.90463\n",
      "Cross Validation Squared correlation coefficient = 0.168539\n"
     ]
    }
   ],
   "source": [
    "model_svm_reg = svmutil.svm_train(res_train, train,'-s 4 -v 10 -t 2 -c 2')"
   ]
  },
  {
   "cell_type": "code",
   "execution_count": 78,
   "metadata": {},
   "outputs": [],
   "source": [
    "# res_train[31000:31100]"
   ]
  },
  {
   "cell_type": "code",
   "execution_count": 127,
   "metadata": {},
   "outputs": [],
   "source": [
    "model_svm = svmutil.svm_train(res_train, train,'-s 4 -t 2 -c 2')"
   ]
  },
  {
   "cell_type": "code",
   "execution_count": 128,
   "metadata": {},
   "outputs": [
    {
     "name": "stdout",
     "output_type": "stream",
     "text": [
      "Mean squared error = 3.41269 (regression)\n",
      "Squared correlation coefficient = 0.127473 (regression)\n"
     ]
    }
   ],
   "source": [
    "y_reg = svmutil.svm_predict(res_test+res_train, test+train, model_svm)"
   ]
  },
  {
   "cell_type": "code",
   "execution_count": 148,
   "metadata": {},
   "outputs": [
    {
     "data": {
      "text/plain": [
       "47611"
      ]
     },
     "execution_count": 148,
     "metadata": {},
     "output_type": "execute_result"
    }
   ],
   "source": [
    "len(y_reg[0])"
   ]
  },
  {
   "cell_type": "code",
   "execution_count": 139,
   "metadata": {},
   "outputs": [],
   "source": [
    "svmutil.svm_save_model(\"model_svm_reg.bin\",model_svm)"
   ]
  },
  {
   "cell_type": "code",
   "execution_count": 102,
   "metadata": {},
   "outputs": [],
   "source": [
    "from sklearn.metrics import r2_score, mean_absolute_error"
   ]
  },
  {
   "cell_type": "code",
   "execution_count": 143,
   "metadata": {},
   "outputs": [
    {
     "data": {
      "text/plain": [
       "0.11785056365054625"
      ]
     },
     "execution_count": 143,
     "metadata": {},
     "output_type": "execute_result"
    }
   ],
   "source": [
    "r2 = r2_score(res_test+res_train,y_reg[0])\n",
    "r2"
   ]
  },
  {
   "cell_type": "code",
   "execution_count": 103,
   "metadata": {
    "scrolled": false
   },
   "outputs": [],
   "source": [
    "# res_test"
   ]
  },
  {
   "cell_type": "code",
   "execution_count": 132,
   "metadata": {},
   "outputs": [
    {
     "data": {
      "text/plain": [
       "1.4486094132772414"
      ]
     },
     "execution_count": 132,
     "metadata": {},
     "output_type": "execute_result"
    }
   ],
   "source": [
    "mae = mean_absolute_error(res_test+res_train, y_reg[0])\n",
    "mae"
   ]
  },
  {
   "cell_type": "code",
   "execution_count": 133,
   "metadata": {},
   "outputs": [
    {
     "data": {
      "text/plain": [
       "KendalltauResult(correlation=0.2449858856993867, pvalue=0.0)"
      ]
     },
     "execution_count": 133,
     "metadata": {},
     "output_type": "execute_result"
    }
   ],
   "source": [
    "from scipy.stats import kendalltau\n",
    "kt = kendalltau(res_test+res_train, y_reg[0])\n",
    "kt"
   ]
  },
  {
   "cell_type": "code",
   "execution_count": 120,
   "metadata": {
    "scrolled": true
   },
   "outputs": [
    {
     "name": "stdout",
     "output_type": "stream",
     "text": [
      "Mean squared error = 8.37172 (regression)\n",
      "Squared correlation coefficient = 0.178916 (regression)\n"
     ]
    }
   ],
   "source": [
    "y_reg2 = svmutil.svm_predict(res_train, train, model_svm)"
   ]
  },
  {
   "cell_type": "code",
   "execution_count": 134,
   "metadata": {},
   "outputs": [
    {
     "data": {
      "text/plain": [
       "-0.7402639696723965"
      ]
     },
     "execution_count": 134,
     "metadata": {},
     "output_type": "execute_result"
    }
   ],
   "source": [
    "r2 = r2_score(res_train,y_reg2[0])\n",
    "r2"
   ]
  },
  {
   "cell_type": "code",
   "execution_count": 135,
   "metadata": {},
   "outputs": [
    {
     "data": {
      "text/plain": [
       "1.9817713724319508"
      ]
     },
     "execution_count": 135,
     "metadata": {},
     "output_type": "execute_result"
    }
   ],
   "source": [
    "mae = mean_absolute_error(res_train, y_reg2[0])\n",
    "mae"
   ]
  },
  {
   "cell_type": "code",
   "execution_count": 136,
   "metadata": {},
   "outputs": [
    {
     "data": {
      "text/plain": [
       "KendalltauResult(correlation=0.2806766116648065, pvalue=0.0)"
      ]
     },
     "execution_count": 136,
     "metadata": {},
     "output_type": "execute_result"
    }
   ],
   "source": [
    "kt = kendalltau(res_train, y_reg2[0])\n",
    "kt"
   ]
  },
  {
   "cell_type": "code",
   "execution_count": 137,
   "metadata": {},
   "outputs": [
    {
     "name": "stdout",
     "output_type": "stream",
     "text": [
      "Mean squared error = 5.5019 (regression)\n",
      "Squared correlation coefficient = 0.106138 (regression)\n"
     ]
    }
   ],
   "source": [
    "y_reg3 = svmutil.svm_predict(res_test, test, model_svm)"
   ]
  },
  {
   "cell_type": "code",
   "execution_count": 138,
   "metadata": {},
   "outputs": [
    {
     "data": {
      "text/plain": [
       "-0.21837228661490915"
      ]
     },
     "execution_count": 138,
     "metadata": {},
     "output_type": "execute_result"
    }
   ],
   "source": [
    "r2 = r2_score(res_test,y_reg3[0])\n",
    "r2"
   ]
  },
  {
   "cell_type": "code",
   "execution_count": 140,
   "metadata": {},
   "outputs": [
    {
     "data": {
      "text/plain": [
       "1.8209704151582984"
      ]
     },
     "execution_count": 140,
     "metadata": {},
     "output_type": "execute_result"
    }
   ],
   "source": [
    "mae = mean_absolute_error(res_test, y_reg3[0])\n",
    "mae"
   ]
  },
  {
   "cell_type": "code",
   "execution_count": 142,
   "metadata": {},
   "outputs": [
    {
     "data": {
      "text/plain": [
       "KendalltauResult(correlation=0.20718250640494856, pvalue=1.63502469638562e-200)"
      ]
     },
     "execution_count": 142,
     "metadata": {},
     "output_type": "execute_result"
    }
   ],
   "source": [
    "from scipy.stats import kendalltau\n",
    "kt = kendalltau(res_test, y_reg3[0])\n",
    "kt"
   ]
  },
  {
   "cell_type": "code",
   "execution_count": null,
   "metadata": {},
   "outputs": [],
   "source": []
  }
 ],
 "metadata": {
  "kernelspec": {
   "display_name": "Python 3",
   "language": "python",
   "name": "python3"
  },
  "language_info": {
   "codemirror_mode": {
    "name": "ipython",
    "version": 3
   },
   "file_extension": ".py",
   "mimetype": "text/x-python",
   "name": "python",
   "nbconvert_exporter": "python",
   "pygments_lexer": "ipython3",
   "version": "3.7.6"
  }
 },
 "nbformat": 4,
 "nbformat_minor": 4
}
